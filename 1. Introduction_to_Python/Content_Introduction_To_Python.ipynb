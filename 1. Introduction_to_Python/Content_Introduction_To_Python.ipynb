{
  "nbformat": 4,
  "nbformat_minor": 0,
  "metadata": {
    "colab": {
      "name": "Content_Introduction_To_Python",
      "provenance": [],
      "collapsed_sections": []
    },
    "kernelspec": {
      "name": "python3",
      "display_name": "Python 3"
    },
    "language_info": {
      "name": "python"
    }
  },
  "cells": [
    {
      "cell_type": "markdown",
      "source": [
        "**Print**"
      ],
      "metadata": {
        "id": "taCMRwGmpWVc"
      }
    },
    {
      "cell_type": "code",
      "execution_count": null,
      "metadata": {
        "colab": {
          "base_uri": "https://localhost:8080/"
        },
        "id": "U6TuRdbnmV3z",
        "outputId": "b418fe2e-66ed-4925-c0c4-10890054762a"
      },
      "outputs": [
        {
          "output_type": "stream",
          "name": "stdout",
          "text": [
            "Hello\n",
            "Hello\n"
          ]
        }
      ],
      "source": [
        "print(\"Hello\")      # Automatically adds new line\n",
        "print(\"Hello\")"
      ]
    },
    {
      "cell_type": "markdown",
      "source": [
        "**Variables**"
      ],
      "metadata": {
        "id": "S0yZ5WjHpd5E"
      }
    },
    {
      "cell_type": "code",
      "source": [
        "# Variabel cannot start with digits for ex. 12_abc is invalid\n",
        "# Hash is used for single line comment\n",
        "a = 10\n",
        "b = 90\n",
        "sum = a+b\n",
        "print(sum)"
      ],
      "metadata": {
        "colab": {
          "base_uri": "https://localhost:8080/"
        },
        "id": "0x2MQgDTphfc",
        "outputId": "79ed1b68-6162-43b7-a116-694f1136f79a"
      },
      "execution_count": null,
      "outputs": [
        {
          "output_type": "stream",
          "name": "stdout",
          "text": [
            "100\n"
          ]
        }
      ]
    },
    {
      "cell_type": "code",
      "source": [
        "# Python is dynamically typed language\n",
        "a = 25\n",
        "print(type(a))\n",
        "a = 'Hello'\n",
        "print(type(a))\n",
        "print(a)"
      ],
      "metadata": {
        "colab": {
          "base_uri": "https://localhost:8080/"
        },
        "id": "2IwUSBZWsfsZ",
        "outputId": "83d7e0ff-38ac-46ee-dd53-3ed495679434"
      },
      "execution_count": null,
      "outputs": [
        {
          "output_type": "stream",
          "name": "stdout",
          "text": [
            "<class 'int'>\n",
            "<class 'str'>\n",
            "Hello\n"
          ]
        }
      ]
    },
    {
      "cell_type": "markdown",
      "source": [
        "**Numbers in Python**"
      ],
      "metadata": {
        "id": "fU6EroUjunU9"
      }
    },
    {
      "cell_type": "code",
      "source": [
        "# There is no size of integers or any other datatype in python\n",
        "a1 = 12\n",
        "a2 = 3.5\n",
        "a3 = 5 + 2j\n",
        "print(type(a1))\n",
        "print(type(a2))\n",
        "print(type(a3))"
      ],
      "metadata": {
        "colab": {
          "base_uri": "https://localhost:8080/"
        },
        "id": "sdX6tjjkusUV",
        "outputId": "6fd8fbf4-99ba-4995-9c8f-913dbf705455"
      },
      "execution_count": null,
      "outputs": [
        {
          "output_type": "stream",
          "name": "stdout",
          "text": [
            "<class 'int'>\n",
            "<class 'float'>\n",
            "<class 'complex'>\n"
          ]
        }
      ]
    },
    {
      "cell_type": "code",
      "source": [
        "# id function gives a specific number associated with storage or address \n",
        "a = 5\n",
        "print(id(a))\n",
        "a = a + 2\n",
        "print(id(a))\n",
        "\n",
        "# from value -5 to 256, id is same for different variables\n",
        "b = 7\n",
        "print(\"Id of a =\", id(a))\n",
        "print(\"Id of b =\", id(b))\n",
        "\n",
        "# Value not in range -5 to 256, id is different for different variables\n",
        "a = 1000\n",
        "b = 1000\n",
        "print(\"Id of a =\", id(a))\n",
        "print(\"Id of b =\", id(b))"
      ],
      "metadata": {
        "colab": {
          "base_uri": "https://localhost:8080/"
        },
        "id": "pmBFCn1LvR_q",
        "outputId": "9f7f6a78-46bc-487d-89f8-2adba3d6c11c"
      },
      "execution_count": null,
      "outputs": [
        {
          "output_type": "stream",
          "name": "stdout",
          "text": [
            "94855952792192\n",
            "94855952792256\n",
            "Id of a = 94855952792256\n",
            "Id of b = 94855952792256\n",
            "Id of a = 140129974860464\n",
            "Id of b = 140129974858032\n"
          ]
        }
      ]
    },
    {
      "cell_type": "markdown",
      "source": [
        "**Arithmetic Operators**"
      ],
      "metadata": {
        "id": "VsfIgAr8zIYG"
      }
    },
    {
      "cell_type": "code",
      "source": [
        "a = 10\n",
        "b = 5\n",
        "print(a + b)\n",
        "print(a - b)\n",
        "print(a * b)\n",
        "print(a / b)    # Floating point division\n",
        "print(a // b)   # Integer division - Quotient\n",
        "print(a % b)    # Modulus - Remainder\n",
        "print(a ** b)   # a power b "
      ],
      "metadata": {
        "colab": {
          "base_uri": "https://localhost:8080/"
        },
        "id": "VnD5fdRvzMQD",
        "outputId": "af24dc90-fedc-4d76-c8b2-5abb991a28db"
      },
      "execution_count": null,
      "outputs": [
        {
          "output_type": "stream",
          "name": "stdout",
          "text": [
            "15\n",
            "5\n",
            "50\n",
            "2.0\n",
            "2\n",
            "0\n",
            "100000\n"
          ]
        }
      ]
    },
    {
      "cell_type": "markdown",
      "source": [
        "**Input - Output Operations**"
      ],
      "metadata": {
        "id": "Zis4zBBl14Yb"
      }
    },
    {
      "cell_type": "code",
      "source": [
        "a = input()\n",
        "b = input()\n",
        "print(type(a))\n",
        "print(type(b))\n",
        "print(a+b, '\\n')\n",
        "\n",
        "a = int(input())\n",
        "b = int(input())\n",
        "print(type(a))\n",
        "print(type(b))\n",
        "print(a+b, '\\n')\n",
        "\n",
        "a = float(input())\n",
        "b = float(input())\n",
        "print(type(a))\n",
        "print(type(b))\n",
        "print(a+b)"
      ],
      "metadata": {
        "colab": {
          "base_uri": "https://localhost:8080/"
        },
        "id": "uel-tSXB18j-",
        "outputId": "fd902c15-cdce-478a-8fc2-cc56f9bf5b15"
      },
      "execution_count": null,
      "outputs": [
        {
          "output_type": "stream",
          "name": "stdout",
          "text": [
            "12\n",
            "34\n",
            "<class 'str'>\n",
            "<class 'str'>\n",
            "1234 \n",
            "\n",
            "25\n",
            "10\n",
            "<class 'int'>\n",
            "<class 'int'>\n",
            "35 \n",
            "\n",
            "3.2\n",
            "2.4\n",
            "<class 'float'>\n",
            "<class 'float'>\n",
            "5.6 \n",
            "\n"
          ]
        }
      ]
    }
  ]
}