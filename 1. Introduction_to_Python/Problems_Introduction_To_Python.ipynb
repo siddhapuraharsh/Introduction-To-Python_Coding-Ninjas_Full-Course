{
  "nbformat": 4,
  "nbformat_minor": 0,
  "metadata": {
    "colab": {
      "name": "Problems_Introduction_To_Python",
      "provenance": [],
      "collapsed_sections": []
    },
    "kernelspec": {
      "name": "python3",
      "display_name": "Python 3"
    },
    "language_info": {
      "name": "python"
    }
  },
  "cells": [
    {
      "cell_type": "markdown",
      "source": [
        "**CONTENT PROBLEMS**"
      ],
      "metadata": {
        "id": "niyNsVVs3O9S"
      }
    },
    {
      "cell_type": "code",
      "source": [
        "'''\n",
        "Find average Marks\n",
        "\n",
        "Write a program to input marks of three tests of a student (all integers). Then calculate and print the average of all test marks.\n",
        "\n",
        "Input format :\n",
        "3 Test marks (in different lines)\n",
        "Output format :\n",
        "Average \n",
        "\n",
        "Sample Input 1 :\n",
        "3 \n",
        "4 \n",
        "6\n",
        "Sample Output 1 :\n",
        "4.333333333333333\n",
        "\n",
        "Sample Input 2 :\n",
        "5 \n",
        "10 \n",
        "5\n",
        "Sample Output 2 :\n",
        "6.666666666666667\n",
        "'''\n",
        "\n",
        "\n",
        "a1 = int(input())\n",
        "a2 = int(input())\n",
        "a3 = int(input())\n",
        "\n",
        "avg = (a1 + a2 + a3)/3\n",
        "print(avg)"
      ],
      "metadata": {
        "id": "XpRaB7Iq3T65"
      },
      "execution_count": null,
      "outputs": []
    },
    {
      "cell_type": "markdown",
      "source": [
        "**ASSIGNMENT PROBLEMS**"
      ],
      "metadata": {
        "id": "OvgB8X2K2SYf"
      }
    },
    {
      "cell_type": "code",
      "execution_count": null,
      "metadata": {
        "colab": {
          "base_uri": "https://localhost:8080/"
        },
        "id": "5gAbufqv2Mgc",
        "outputId": "08b83e29-936c-498e-d023-5bb35d0c5bb8"
      },
      "outputs": [
        {
          "output_type": "stream",
          "name": "stdout",
          "text": [
            "2\n",
            "3\n",
            "8\n"
          ]
        }
      ],
      "source": [
        "'''\n",
        "Find X raised to power N\n",
        "\n",
        "You are given two integers: X and N. You have to calculate X raised to power N and print it.\n",
        "\n",
        "Input format:\n",
        "The first line of input contains an integer X (1 <= X <= 100)\n",
        "The second line of input contains an integer N (1 <= N <= 10) \n",
        "\n",
        "Constraints:\n",
        "Time Limit: 1 second\n",
        "\n",
        "Output format:\n",
        "The first and only line of output contains the result. \n",
        "\n",
        "Sample Input:\n",
        "10\n",
        "4\n",
        "Sample Output:\n",
        "10000\n",
        "'''\n",
        "\n",
        "x = int(input())\n",
        "n = int(input())\n",
        "\n",
        "ans = x**n\n",
        "print(ans)"
      ]
    },
    {
      "cell_type": "code",
      "source": [
        "'''\n",
        "Arithmetic Progression\n",
        "\n",
        "You are given first three entries of an arithmetic progression. You have to calculate the common difference and print it.\n",
        "\n",
        "Input format:\n",
        "The first line of input contains an integer a (1 <= a <= 100)\n",
        "The second line of input contains an integer b (1 <= b <= 100) \n",
        "The third line of input contains an integer c (1 <= c <= 100) \n",
        "\n",
        "Constraints:\n",
        "Time Limit: 1 second\n",
        "\n",
        "Output format:\n",
        "The first and only line of output contains the result. \n",
        "\n",
        "Sample Input:\n",
        "1\n",
        "3\n",
        "5\n",
        "Sample Output:\n",
        "2\n",
        "'''\n",
        "\n",
        "x1 = int(input())\n",
        "x2 = int(input())\n",
        "x3 = int(input())\n",
        "\n",
        "common_diff = x3-x2    # Common Difference is difference between any two consecutive numbers in ap\n",
        "print(common_diff)"
      ],
      "metadata": {
        "id": "OTijESqe2scq"
      },
      "execution_count": null,
      "outputs": []
    },
    {
      "cell_type": "code",
      "source": [
        "'''\n",
        "Rectangular Area\n",
        "\n",
        "You are given a rectangle in a plane. The coordinates of one of its diagonals are provided to you. You have to print the total area of the rectangle.\n",
        "The coordinates of the rectangle are provided as four integral values: x1, y1, x2, y2. It is given that x1 < x2 and y1 < y2.\n",
        "\n",
        "Input format:\n",
        "The first line of input contains an integer x1 \n",
        "The second line of input contains an integer y1  \n",
        "The third line of input contains an integer x2 \n",
        "The fourth line of input contains an integer y2 \n",
        "\n",
        "Constraints:\n",
        "1 <= x1 <= 10\n",
        "1 <= y1 <= 10\n",
        "1 <= x2 <= 10\n",
        "1 <= y2 <= 10 \n",
        "Time Limit: 1 second\n",
        "\n",
        "Output format:\n",
        "The first and only line of output contains the result.  \n",
        "\n",
        "Sample Input:\n",
        "1\n",
        "1\n",
        "3\n",
        "3\n",
        "Sample Output:\n",
        "4\n",
        "\n",
        "Explanation:\n",
        "The given coordinates of the diagonal are (x1,y1) = (1,1) and (x2,y2) = (3, 3). \n",
        "The area of the rectangle can then easily be calculated as: \n",
        "(3 – 1) * ( 3 – 1) = 2 * 2 = 4 \n",
        "'''\n",
        "\n",
        "x1 = int(input())\n",
        "y1 = int(input())\n",
        "\n",
        "x2 = int(input())\n",
        "y2 = int(input())\n",
        "\n",
        "area = (x2-x1) * (y2-y1)\n",
        "\n",
        "print(area)"
      ],
      "metadata": {
        "id": "uzJcp_sP22YY"
      },
      "execution_count": null,
      "outputs": []
    }
  ]
}