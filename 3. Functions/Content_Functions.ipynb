{
  "nbformat": 4,
  "nbformat_minor": 0,
  "metadata": {
    "colab": {
      "name": "Content_Functions",
      "provenance": []
    },
    "kernelspec": {
      "name": "python3",
      "display_name": "Python 3"
    },
    "language_info": {
      "name": "python"
    }
  },
  "cells": [
    {
      "cell_type": "code",
      "source": [
        "def function(a,b,c=1):\n",
        "    return a+b-c\n",
        "value = function(10,12)\n",
        "print(value)"
      ],
      "metadata": {
        "colab": {
          "base_uri": "https://localhost:8080/"
        },
        "id": "3Swnhm-iJH9u",
        "outputId": "1000f91d-3225-4bd0-d0b5-8d9c6f1b690d"
      },
      "execution_count": null,
      "outputs": [
        {
          "output_type": "stream",
          "name": "stdout",
          "text": [
            "21\n"
          ]
        }
      ]
    },
    {
      "cell_type": "code",
      "source": [
        "def function(a,b,c=1):\n",
        "    return a+b-c\n",
        "value = function(10,12,5)\n",
        "print(value)"
      ],
      "metadata": {
        "colab": {
          "base_uri": "https://localhost:8080/"
        },
        "id": "ZKXZjHYFJMKI",
        "outputId": "3d30d54b-300e-483d-b262-6adc487d8594"
      },
      "execution_count": null,
      "outputs": [
        {
          "output_type": "stream",
          "name": "stdout",
          "text": [
            "17\n"
          ]
        }
      ]
    },
    {
      "cell_type": "code",
      "execution_count": null,
      "metadata": {
        "colab": {
          "base_uri": "https://localhost:8080/"
        },
        "id": "5KIs86qx0UPU",
        "outputId": "468557c8-3f2e-40fd-870f-fba932007ac8"
      },
      "outputs": [
        {
          "output_type": "stream",
          "name": "stdout",
          "text": [
            "11\n"
          ]
        }
      ],
      "source": [
        "def function(a,b,c=1,d=5):\n",
        "    return a+b+c+d\n",
        "value = function(1,2,d=7)\n",
        "print(value)"
      ]
    }
  ]
}