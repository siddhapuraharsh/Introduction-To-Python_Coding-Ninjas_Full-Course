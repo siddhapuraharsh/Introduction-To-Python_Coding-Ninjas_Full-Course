{
  "nbformat": 4,
  "nbformat_minor": 0,
  "metadata": {
    "colab": {
      "name": "Test-2",
      "provenance": [],
      "collapsed_sections": []
    },
    "kernelspec": {
      "name": "python3",
      "display_name": "Python 3"
    },
    "language_info": {
      "name": "python"
    }
  },
  "cells": [
    {
      "cell_type": "markdown",
      "source": [
        "**Test-2**"
      ],
      "metadata": {
        "id": "y8shKQI_jd5h"
      }
    },
    {
      "cell_type": "code",
      "execution_count": null,
      "metadata": {
        "id": "3Isz6qTl5gnU"
      },
      "outputs": [],
      "source": [
        "'''\n",
        "Print 2D Array\n",
        "\n",
        "Given a 2D integer array with n rows and m columns. Print the 0th row from input n times, 1st row n-1 times…..(n-1)th row will be printed 1 time.\n",
        "\n",
        "Input format :\n",
        "Line 1 : No of rows (n) and no of columns (m) (separated by single space)\n",
        "Line 2 : Row 1 elements (separated by space)\n",
        "Line 3 : Row 2 elements (separated by space)\n",
        "Line 4 : and so on\n",
        "\n",
        "Sample Input 1:\n",
        "3 3\n",
        "1 2 3\n",
        "4 5 6\n",
        "7 8 9\n",
        "Sample Output 1 :\n",
        "1 2 3\n",
        "1 2 3\n",
        "1 2 3\n",
        "4 5 6\n",
        "4 5 6\n",
        "7 8 9\n",
        "'''\n",
        "\n",
        "n,m = map(int,input().split())\n",
        "\n",
        "for i in range(n):\n",
        "    strArr = input()\n",
        "    for j in range(n-i):\n",
        "        print(strArr)"
      ]
    },
    {
      "cell_type": "code",
      "source": [
        "'''\n",
        "Minimum Length Word\n",
        "\n",
        "Given a string S (that can contain multiple words), you need to find the word which has minimum length.\n",
        "\n",
        "Note : If multiple words are of same length, then answer will be first minimum length word in the string.\n",
        "\n",
        "Words are seperated by single space only.\n",
        "\n",
        "Input Format :\n",
        "String S\n",
        "Output Format :\n",
        "Minimum length word\n",
        "\n",
        "Constraints :\n",
        "1 <= Length of String S <= 10^5\n",
        "\n",
        "Sample Input 1 :\n",
        "this is test string\n",
        "Sample Output 1 :\n",
        "is\n",
        "\n",
        "Sample Input 2 :\n",
        "abc de ghihjk a uvw h j\n",
        "Sample Output 2 :\n",
        "a\n",
        "'''\n",
        "\n",
        "s = list(map(str,input().split()))\n",
        "\n",
        "min = s[0]\n",
        "\n",
        "for i in s:\n",
        "    if len(i)<len(min):\n",
        "        min = i\n",
        "        \n",
        "print(min)\n"
      ],
      "metadata": {
        "id": "040fVputihQ6"
      },
      "execution_count": null,
      "outputs": []
    },
    {
      "cell_type": "code",
      "source": [
        "'''\n",
        "Leaders in array\n",
        "\n",
        "Given an integer array A of size n. Find and print all the leaders present in the input array. An array element A[i] is called Leader, if all the elements following it (i.e. present at its right) are less than or equal to A[i].\n",
        "\n",
        "Print all the leader elements separated by space and in the same order they are present in the input array.\n",
        "\n",
        "Input Format :\n",
        "Line 1 : Integer n, size of array\n",
        "Line 2 : Array A elements (separated by space)\n",
        "Output Format :\n",
        "leaders of array (separated by space)\n",
        "\n",
        "Constraints :\n",
        "1 <= n <= 10^6\n",
        "\n",
        "Sample Input 1 :\n",
        "6\n",
        "3 12 34 2 0 -1\n",
        "Sample Output 1 :\n",
        "34 2 0 -1\n",
        "\n",
        "Sample Input 2 :\n",
        "5\n",
        "13 17 5 4 6\n",
        "Sample Output 2 :\n",
        "17 6\n",
        "'''\n",
        "\n",
        "n = int(input())\n",
        "arr = list(map(int,input().split()))\n",
        "\n",
        "maxElement = arr[n-1]\n",
        "answer = []\n",
        "answer.append(maxElement)\n",
        "\n",
        "for i in range(n-2,-1,-1):\n",
        "    if arr[i]>=maxElement:\n",
        "        answer.append(arr[i])\n",
        "        maxElement = arr[i]\n",
        "\n",
        "print(*answer[::-1])"
      ],
      "metadata": {
        "id": "B_n_MWSwjLml"
      },
      "execution_count": null,
      "outputs": []
    }
  ]
}