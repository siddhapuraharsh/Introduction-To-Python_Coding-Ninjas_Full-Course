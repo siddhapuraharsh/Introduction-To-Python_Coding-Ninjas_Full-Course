{
  "nbformat": 4,
  "nbformat_minor": 0,
  "metadata": {
    "colab": {
      "name": "Content_Strings",
      "provenance": [],
      "collapsed_sections": []
    },
    "kernelspec": {
      "name": "python3",
      "display_name": "Python 3"
    },
    "language_info": {
      "name": "python"
    }
  },
  "cells": [
    {
      "cell_type": "code",
      "execution_count": null,
      "metadata": {
        "id": "JVrQqJMB3FKo",
        "colab": {
          "base_uri": "https://localhost:8080/",
          "height": 108
        },
        "outputId": "f218f50a-8c9d-4a8a-a1a8-97f8bab02e7e"
      },
      "outputs": [
        {
          "output_type": "stream",
          "name": "stdout",
          "text": [
            "Hello World\n",
            "Hello World\n",
            "Hello\n",
            "World\n"
          ]
        },
        {
          "output_type": "execute_result",
          "data": {
            "application/vnd.google.colaboratory.intrinsic+json": {
              "type": "string"
            },
            "text/plain": [
              "'Hello\\nWorld'"
            ]
          },
          "metadata": {},
          "execution_count": 4
        }
      ],
      "source": [
        "p = 'Hello World'\n",
        "q = \"Hello World\"\n",
        "\n",
        "#Multiline Strings\n",
        "r = '''Hello\n",
        "World'''\n",
        "\n",
        "print(p)\n",
        "print(q)\n",
        "\n",
        "print(r)\n",
        "r"
      ]
    },
    {
      "cell_type": "code",
      "source": [
        "s = 'abcd'\n",
        "a = 'abcd'\n",
        "if id(s) == id(a):\n",
        "    print('They are same')\n",
        "else:\n",
        "    print('They are not same')"
      ],
      "metadata": {
        "colab": {
          "base_uri": "https://localhost:8080/"
        },
        "id": "OqpHUcjbrVaj",
        "outputId": "697703f1-9c7f-474d-d85e-e399ba7fec9f"
      },
      "execution_count": null,
      "outputs": [
        {
          "output_type": "stream",
          "name": "stdout",
          "text": [
            "They are same\n"
          ]
        }
      ]
    },
    {
      "cell_type": "code",
      "source": [
        "a = 'red'\n",
        "a = a + 'green'\n",
        "print(a)\n",
        "\n",
        "a += 'pink'\n",
        "print(id(a), a)\n",
        "\n",
        "a += 'yellow'\n",
        "print(id(a), a)\n",
        "\n",
        "a = 'blue'\n",
        "a = a*2\n",
        "print(a)\n",
        "a *= 2\n",
        "print(a)\n",
        "\n",
        "a = 'orange' + str(5)\n",
        "print(a)"
      ],
      "metadata": {
        "colab": {
          "base_uri": "https://localhost:8080/"
        },
        "id": "CNaMcnxar7JF",
        "outputId": "c285ae16-3e50-449c-d177-000aa5be4a61"
      },
      "execution_count": null,
      "outputs": [
        {
          "output_type": "stream",
          "name": "stdout",
          "text": [
            "redgreen\n",
            "139862710400112 redgreenpink\n",
            "139862709960176 redgreenpinkyellow\n",
            "blueblue\n",
            "blueblueblueblue\n",
            "orange5\n"
          ]
        }
      ]
    },
    {
      "cell_type": "code",
      "source": [
        "s = \"abcd\"\n",
        "b = s + \"ef\"\n",
        "print(s)"
      ],
      "metadata": {
        "colab": {
          "base_uri": "https://localhost:8080/"
        },
        "id": "FDHBbULg-tz3",
        "outputId": "3a137841-adf9-4a5e-f971-ed2017f84286"
      },
      "execution_count": null,
      "outputs": [
        {
          "output_type": "stream",
          "name": "stdout",
          "text": [
            "abcd\n"
          ]
        }
      ]
    },
    {
      "cell_type": "markdown",
      "source": [
        "**String Slicing**"
      ],
      "metadata": {
        "id": "NzzKICR4N2iv"
      }
    },
    {
      "cell_type": "code",
      "source": [
        "s = 'abcdefghijkl'   # s[start, end, stride]\n",
        "print(s[1:4])\n",
        "print(s[1:4:2])\n",
        "print(s[6:4])   # Prints nothing because start>end\n",
        "print(s[-1])\n",
        "print(s[-5:-3])\n",
        "print(s[:4])\n",
        "print(s[1:9])\n",
        "print(s[4:1:-1])\n",
        "print(s[5::-1])\n",
        "print(s[:2:-1])\n",
        "print(s[5::-1])\n",
        "print(s[5:2:-2])"
      ],
      "metadata": {
        "colab": {
          "base_uri": "https://localhost:8080/"
        },
        "id": "ADA-qA1oN52W",
        "outputId": "55c45923-7e1f-4e15-f1c7-ec466ee5ba48"
      },
      "execution_count": null,
      "outputs": [
        {
          "output_type": "stream",
          "name": "stdout",
          "text": [
            "bcd\n",
            "bd\n",
            "\n",
            "l\n",
            "hi\n",
            "abcd\n",
            "bcdefghi\n",
            "edc\n",
            "fedcba\n",
            "lkjihgfed\n",
            "fedcba\n",
            "fd\n"
          ]
        }
      ]
    },
    {
      "cell_type": "code",
      "source": [
        "s = \"abcdef\"\n",
        "print (s[2:])\n",
        "\n",
        "s = \"abcdef\"\n",
        "print (s[4:2:-1])"
      ],
      "metadata": {
        "colab": {
          "base_uri": "https://localhost:8080/"
        },
        "id": "6usr_e-MPXNQ",
        "outputId": "9c327110-10ab-4832-fb30-e75f8c622473"
      },
      "execution_count": null,
      "outputs": [
        {
          "output_type": "stream",
          "name": "stdout",
          "text": [
            "cdef\n",
            "ed\n"
          ]
        }
      ]
    },
    {
      "cell_type": "markdown",
      "source": [
        "**Iterating Strings**"
      ],
      "metadata": {
        "id": "MNw5JB6qQKXn"
      }
    },
    {
      "cell_type": "code",
      "source": [
        "s = 'Hello World'\n",
        "count = 0\n",
        "for alphabet in s:\n",
        "  if alphabet=='l':\n",
        "    count += 1\n",
        "print(count)\n",
        "\n",
        "count = 0\n",
        "for i in range(len(s)):\n",
        "  if s[i]=='l':\n",
        "    count += 1\n",
        "print(count)"
      ],
      "metadata": {
        "colab": {
          "base_uri": "https://localhost:8080/"
        },
        "id": "MgzDI8qoQJ7w",
        "outputId": "a333b6c2-1a73-47bf-900d-f83c7ed397ce"
      },
      "execution_count": null,
      "outputs": [
        {
          "output_type": "stream",
          "name": "stdout",
          "text": [
            "3\n",
            "3\n"
          ]
        }
      ]
    },
    {
      "cell_type": "code",
      "source": [
        "st = 'Hello World'\n",
        "sub_st = 'Hel'\n",
        "\n",
        "if sub_st in st:\n",
        "  print('Substring is Present...!')\n",
        "else:\n",
        "  print('Substring is not Present...!')\n",
        "\n",
        "if sub_st not in st:\n",
        "  print('Substring is not Present...!')\n",
        "else:\n",
        "  print('Substring is Present...!')"
      ],
      "metadata": {
        "colab": {
          "base_uri": "https://localhost:8080/"
        },
        "id": "lAi7ZMJoRRQ1",
        "outputId": "aabb5f76-e05a-4475-bcd1-5ef81e42db54"
      },
      "execution_count": null,
      "outputs": [
        {
          "output_type": "stream",
          "name": "stdout",
          "text": [
            "Substring is Present...!\n",
            "Substring is Present...!\n"
          ]
        }
      ]
    },
    {
      "cell_type": "markdown",
      "source": [
        "**String Comparison Operators**"
      ],
      "metadata": {
        "id": "4H9UQL6IR55i"
      }
    },
    {
      "cell_type": "code",
      "source": [
        "print(\"Hello\" == \"Hello\")\n",
        "\n",
        "print(\"Jello\" >= \"Hello\")\n",
        "print(\"Hallo\" >=\"Hbllo\")\n",
        "\n",
        "print(\"Hello\" >= \"Hello\")\n",
        "\n",
        "print(\"He\" >= \"Hello\")\n",
        "print(\"Hello\" >= \"He\")\n",
        "\n",
        "print(\"Hello\" >= \"Hello\")\n",
        "print(\"Hello\" > \"Hello\")\n",
        "\n",
        "print(\"Hello\" != \"Hello\")\n",
        "print(\"He\" != \"Hello\")"
      ],
      "metadata": {
        "colab": {
          "base_uri": "https://localhost:8080/"
        },
        "id": "bx4Wm-xnR5Wr",
        "outputId": "ed820d37-210e-4a58-887a-7a3f79d48d4e"
      },
      "execution_count": null,
      "outputs": [
        {
          "output_type": "stream",
          "name": "stdout",
          "text": [
            "True\n",
            "True\n",
            "False\n",
            "True\n",
            "False\n",
            "True\n",
            "True\n",
            "False\n",
            "False\n",
            "True\n"
          ]
        }
      ]
    },
    {
      "cell_type": "code",
      "source": [
        "a = \"abcdef\" == \"abcd\"\n",
        "print(a)\n",
        "\n",
        "a = \"abce\" >= \"abcdef\"\n",
        "print(a)"
      ],
      "metadata": {
        "colab": {
          "base_uri": "https://localhost:8080/"
        },
        "id": "ipnbc1AWVZv8",
        "outputId": "e685921d-4d92-41d4-b37b-3312daa083cb"
      },
      "execution_count": null,
      "outputs": [
        {
          "output_type": "stream",
          "name": "stdout",
          "text": [
            "False\n",
            "True\n"
          ]
        }
      ]
    },
    {
      "cell_type": "markdown",
      "source": [
        "**String Inbuilt Functions**"
      ],
      "metadata": {
        "id": "SEGTuia1Wf0O"
      }
    },
    {
      "cell_type": "code",
      "source": [
        "# split()\n",
        "\n",
        "st = 'You are learning Python'\n",
        "lst = st.split()  # Default argument is space\n",
        "print(lst)\n",
        "\n",
        "st = 'You,are learning,Python'\n",
        "lst = st.split(',')  # Argument is ','\n",
        "print(lst)\n",
        "\n",
        "st = 'You,are learning,Python'\n",
        "lst = st.split(',',1)  # Argument is ','  and split in 1 part\n",
        "print(lst)\n",
        "\n",
        "st = 'You,are learning,Python'\n",
        "lst = st.split(',',2)  # Argument is ','  and split in 2 part\n",
        "print(lst)"
      ],
      "metadata": {
        "colab": {
          "base_uri": "https://localhost:8080/"
        },
        "id": "J6YEIgXDWim6",
        "outputId": "1480e3f7-f491-4942-a018-0e193033c514"
      },
      "execution_count": null,
      "outputs": [
        {
          "output_type": "stream",
          "name": "stdout",
          "text": [
            "['You', 'are', 'learning', 'Python']\n",
            "['You', 'are learning', 'Python']\n",
            "['You', 'are learning,Python']\n",
            "['You', 'are learning', 'Python']\n"
          ]
        }
      ]
    },
    {
      "cell_type": "code",
      "source": [
        "# replace()\n",
        "\n",
        "st = 'You are learning Java'\n",
        "st = st.replace('Java','Python')  \n",
        "print(st)\n",
        "\n",
        "st = 'You are learning Java'\n",
        "st = st.replace('abc','Python')  \n",
        "print(st)\n",
        "\n",
        "st = 'You are learning Java Java Java Java'\n",
        "st = st.replace('Java','Python')  \n",
        "print(st)\n",
        "\n",
        "st = 'You are learning Java Java Java Java'\n",
        "st = st.replace('Java','Python',2)  # Replaces on first 2 occurrences of 'Java'\n",
        "print(st)"
      ],
      "metadata": {
        "colab": {
          "base_uri": "https://localhost:8080/"
        },
        "id": "aeKtsK-RXe5o",
        "outputId": "0ad1dda8-022b-4f68-b49b-03c934534ed2"
      },
      "execution_count": null,
      "outputs": [
        {
          "output_type": "stream",
          "name": "stdout",
          "text": [
            "You are learning Python\n",
            "You are learning Java\n",
            "You are learning Python Python Python Python\n",
            "You are learning Python Python Java Java\n"
          ]
        }
      ]
    },
    {
      "cell_type": "code",
      "source": [
        "# find()\n",
        "\n",
        "st = 'You are learning Java'\n",
        "index = st.find('learn')  \n",
        "print(index)\n",
        "\n",
        "st = 'You are learning Java'\n",
        "index = st.find('pqr')  \n",
        "print(index)\n",
        "\n",
        "st = 'Learn Python Python Python'\n",
        "index = st.find('Pyth')   # By default it return the index of first occurrence\n",
        "print(index)\n",
        "\n",
        "st = 'Learn Python Python Python'\n",
        "index = st.find('Pyth',10,20)   # Return the index of substring present between index 10 to 19\n",
        "print(index)"
      ],
      "metadata": {
        "colab": {
          "base_uri": "https://localhost:8080/"
        },
        "id": "2UVrV82jYTdX",
        "outputId": "69198911-699b-4269-9448-3fc6e677359d"
      },
      "execution_count": null,
      "outputs": [
        {
          "output_type": "stream",
          "name": "stdout",
          "text": [
            "8\n",
            "-1\n",
            "6\n",
            "13\n"
          ]
        }
      ]
    },
    {
      "cell_type": "code",
      "source": [
        "# lower() and upper()\n",
        "\n",
        "st = 'You are learning Python'\n",
        "print(st.lower())  \n",
        "print(st.upper())  "
      ],
      "metadata": {
        "colab": {
          "base_uri": "https://localhost:8080/"
        },
        "id": "vHUoHleIZ1jN",
        "outputId": "ee29becd-9404-471d-db22-347e004fd3aa"
      },
      "execution_count": null,
      "outputs": [
        {
          "output_type": "stream",
          "name": "stdout",
          "text": [
            "you are learning python\n",
            "YOU ARE LEARNING PYTHON\n"
          ]
        }
      ]
    },
    {
      "cell_type": "code",
      "source": [
        "# startswith\n",
        "\n",
        "st = 'You are learning Python'\n",
        "print(st.startswith('Yo'))  \n",
        "print(st.startswith('yo'))  \n",
        "print(st.startswith('You Are'))  \n",
        "\n",
        "print(st.startswith('lear',8,25))    #string from index 8 to 24 starts with 'lear' substring?\n",
        "print(st.startswith('Learn', 8,25))  "
      ],
      "metadata": {
        "colab": {
          "base_uri": "https://localhost:8080/"
        },
        "id": "pC0GxuqdaRl0",
        "outputId": "c0321a09-1643-4c9e-ae6b-edfea2eab9f6"
      },
      "execution_count": null,
      "outputs": [
        {
          "output_type": "stream",
          "name": "stdout",
          "text": [
            "True\n",
            "False\n",
            "False\n",
            "True\n",
            "False\n"
          ]
        }
      ]
    },
    {
      "cell_type": "markdown",
      "source": [
        "**Practice Problems**"
      ],
      "metadata": {
        "id": "IATI25XwbrwA"
      }
    },
    {
      "cell_type": "code",
      "source": [
        "# Replace all occurences of a to x\n",
        "\n",
        "# Solution-1\n",
        "st = 'You are learning Python'\n",
        "print(st.replace('a','x'))\n",
        "\n",
        "#Solution-2\n",
        "def strReplace(st,char1,char2):\n",
        "  newStr = ''\n",
        "  for alphabet in st:\n",
        "    if alphabet==char1:\n",
        "      newStr += char2\n",
        "    else:\n",
        "      newStr += alphabet\n",
        "  return newStr\n",
        "\n",
        "st = 'You are learning Python'\n",
        "st = strReplace(st,'a','x')\n",
        "print(st)"
      ],
      "metadata": {
        "colab": {
          "base_uri": "https://localhost:8080/"
        },
        "id": "ZtXwxkklbqw-",
        "outputId": "e840b834-6190-4c01-8e9b-7110d3391e4b"
      },
      "execution_count": null,
      "outputs": [
        {
          "output_type": "stream",
          "name": "stdout",
          "text": [
            "You xre lexrning Python\n",
            "You xre lexrning Python\n"
          ]
        }
      ]
    },
    {
      "cell_type": "code",
      "source": [
        "# Coount number of vowels, numbers, consonents and special characters in string\n",
        "\n",
        "def countInString(st):\n",
        "  v,c,d,s=0,0,0,0\n",
        "\n",
        "  for char in st:\n",
        "\n",
        "    if((char>='a' and char<='z')or (char>='A' and char<='Z')):\n",
        "      char=char.lower()\n",
        "      if(char=='a' or char=='e' or char=='i' or char=='o' or char=='u'):\n",
        "        v+=1\n",
        "      else:\n",
        "        c+=1\n",
        "\n",
        "    elif(char>='0' and char<='9'):\n",
        "      d+=1\n",
        "\n",
        "    else:\n",
        "      s+=1\n",
        "\n",
        "  return v,c,d,s\n",
        "\n",
        "st = 'AeIou PqrXyz @ 12345 jkLmn'\n",
        "v,c,d,s = countInString(st)\n",
        "print('Vowels : ', v)\n",
        "print('Consonents : ', c)\n",
        "print('Digits : ', d)\n",
        "print('Special Characters : ', s)"
      ],
      "metadata": {
        "colab": {
          "base_uri": "https://localhost:8080/"
        },
        "id": "Mvs6EDMBdBUV",
        "outputId": "8a14c3e4-a733-45c7-acf7-a93b9926f626"
      },
      "execution_count": null,
      "outputs": [
        {
          "output_type": "stream",
          "name": "stdout",
          "text": [
            "Vowels :  5\n",
            "Consonents :  11\n",
            "Digits :  5\n",
            "Special Characters :  5\n"
          ]
        }
      ]
    }
  ]
}