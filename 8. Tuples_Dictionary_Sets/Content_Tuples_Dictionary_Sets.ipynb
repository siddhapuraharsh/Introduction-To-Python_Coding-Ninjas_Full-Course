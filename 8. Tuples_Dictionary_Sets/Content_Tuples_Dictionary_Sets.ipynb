{
  "nbformat": 4,
  "nbformat_minor": 0,
  "metadata": {
    "colab": {
      "name": "Content_Tuples-Dictionary-Sets",
      "provenance": [],
      "collapsed_sections": []
    },
    "kernelspec": {
      "name": "python3",
      "display_name": "Python 3"
    },
    "language_info": {
      "name": "python"
    }
  },
  "cells": [
    {
      "cell_type": "markdown",
      "source": [
        "**TUPLES**"
      ],
      "metadata": {
        "id": "JionZTN_F7IW"
      }
    },
    {
      "cell_type": "code",
      "execution_count": null,
      "metadata": {
        "id": "kAxMIdGd4avL",
        "colab": {
          "base_uri": "https://localhost:8080/"
        },
        "outputId": "0139b1cd-b02d-4f8a-e9b2-35983ca1afc9"
      },
      "outputs": [
        {
          "output_type": "stream",
          "name": "stdout",
          "text": [
            "(1, 2)\n",
            "<class 'tuple'>\n",
            "(1, 2)\n",
            "<class 'tuple'>\n",
            "1\n",
            "2\n"
          ]
        }
      ],
      "source": [
        "a = (1,2)\n",
        "print(a)\n",
        "print(type(a))\n",
        "\n",
        "a = 1,2\n",
        "print(a)\n",
        "print(type(a))\n",
        "\n",
        "print(a[0])\n",
        "print(a[-1])\n"
      ]
    },
    {
      "cell_type": "code",
      "source": [
        "a = 5,6,7\n",
        "print(a[1:])"
      ],
      "metadata": {
        "colab": {
          "base_uri": "https://localhost:8080/"
        },
        "id": "S6dzOB95RQWc",
        "outputId": "7d71bdd7-3fa3-4ade-b11f-77de33c9dcbc"
      },
      "execution_count": null,
      "outputs": [
        {
          "output_type": "stream",
          "name": "stdout",
          "text": [
            "(6, 7)\n"
          ]
        }
      ]
    },
    {
      "cell_type": "code",
      "source": [
        "a = 1,2\n",
        "b = (4,5)\n",
        "d = (a,b)\n",
        "print(d[0])"
      ],
      "metadata": {
        "colab": {
          "base_uri": "https://localhost:8080/"
        },
        "id": "XvXB9pA_TZfj",
        "outputId": "59bc5c86-d06e-47c2-c8c1-0a359760ff5e"
      },
      "execution_count": null,
      "outputs": [
        {
          "output_type": "stream",
          "name": "stdout",
          "text": [
            "(1, 2)\n"
          ]
        }
      ]
    },
    {
      "cell_type": "code",
      "source": [
        "a = 1,2\n",
        "b = (4,5)\n",
        "d = a+b\n",
        "print(d[2])"
      ],
      "metadata": {
        "colab": {
          "base_uri": "https://localhost:8080/"
        },
        "id": "U4-MEAv0Tmsu",
        "outputId": "158156ba-6b94-4cbc-d9d6-7301aa381206"
      },
      "execution_count": null,
      "outputs": [
        {
          "output_type": "stream",
          "name": "stdout",
          "text": [
            "4\n"
          ]
        }
      ]
    },
    {
      "cell_type": "code",
      "source": [
        "a = ('ab','abc','def')\n",
        "print(min(a))"
      ],
      "metadata": {
        "colab": {
          "base_uri": "https://localhost:8080/"
        },
        "id": "FW1FE2ekT4a7",
        "outputId": "3b3e62a2-5a2f-48e4-8b4a-ac06cf8db0fe"
      },
      "execution_count": null,
      "outputs": [
        {
          "output_type": "stream",
          "name": "stdout",
          "text": [
            "ab\n"
          ]
        }
      ]
    },
    {
      "cell_type": "code",
      "source": [
        "def sum2(a,b,*more):\n",
        "    print(a)\n",
        "    print(b)\n",
        "    print(type(more))\n",
        "    ans = a+b\n",
        "    for i in more:\n",
        "        ans = ans+i\n",
        "    return ans\n",
        "\n",
        "print(sum2(2,3,4,5))"
      ],
      "metadata": {
        "colab": {
          "base_uri": "https://localhost:8080/"
        },
        "id": "9liiOqlDU5y-",
        "outputId": "1534eb05-249c-42fb-9cd5-050393b74658"
      },
      "execution_count": null,
      "outputs": [
        {
          "output_type": "stream",
          "name": "stdout",
          "text": [
            "2\n",
            "3\n",
            "<class 'tuple'>\n",
            "14\n"
          ]
        }
      ]
    },
    {
      "cell_type": "code",
      "source": [
        "def multiply(a,b,c,*more):\n",
        "    value = a*b*c\n",
        "    for i in more:\n",
        "        value = value * i\n",
        "    return value\n",
        "V = multiply(1,2,3,4,5)\n",
        "print(V)"
      ],
      "metadata": {
        "colab": {
          "base_uri": "https://localhost:8080/"
        },
        "id": "FclNhRZlVuTW",
        "outputId": "108d22d0-0a42-4592-9585-bb3dd7842504"
      },
      "execution_count": null,
      "outputs": [
        {
          "output_type": "stream",
          "name": "stdout",
          "text": [
            "120\n"
          ]
        }
      ]
    },
    {
      "cell_type": "code",
      "source": [
        "def sum_multiply(a,b,*more):\n",
        "    sum_value = a+b\n",
        "    m_value = a*b\n",
        "    for i in more:\n",
        "        sum_value += i\n",
        "        m_value*=i\n",
        "    return sum_value,m_value\n",
        "s_m = sum_multiply(2,3,4)\n",
        "print(s_m)"
      ],
      "metadata": {
        "colab": {
          "base_uri": "https://localhost:8080/"
        },
        "id": "N1nsou5wWC-y",
        "outputId": "6adb7de7-4263-4c5a-ade6-c6e221e9e729"
      },
      "execution_count": null,
      "outputs": [
        {
          "output_type": "stream",
          "name": "stdout",
          "text": [
            "(9, 24)\n"
          ]
        }
      ]
    },
    {
      "cell_type": "markdown",
      "source": [
        "**DICTIONARY**"
      ],
      "metadata": {
        "id": "fpvi9TiE7SFF"
      }
    },
    {
      "cell_type": "code",
      "source": [
        "a = {}\n",
        "print(type(a))"
      ],
      "metadata": {
        "colab": {
          "base_uri": "https://localhost:8080/"
        },
        "id": "8n0a8d_D7UQp",
        "outputId": "5eb1505f-ede0-4da4-f2b0-59d553f297a4"
      },
      "execution_count": 1,
      "outputs": [
        {
          "output_type": "stream",
          "name": "stdout",
          "text": [
            "<class 'dict'>\n"
          ]
        }
      ]
    },
    {
      "cell_type": "code",
      "source": [
        "a = {\"the\":1,\"a\":5,10000:\"abc\"}\n",
        "print(a)\n",
        "print(len(a))\n",
        "\n",
        "b = a.copy()\n",
        "print(b)"
      ],
      "metadata": {
        "colab": {
          "base_uri": "https://localhost:8080/"
        },
        "id": "9BM6fsy98K_M",
        "outputId": "042f1f7a-df0d-449d-bc91-fd9a9672c5f3"
      },
      "execution_count": 4,
      "outputs": [
        {
          "output_type": "stream",
          "name": "stdout",
          "text": [
            "{'the': 1, 'a': 5, 10000: 'abc'}\n",
            "3\n",
            "{'the': 1, 'a': 5, 10000: 'abc'}\n"
          ]
        }
      ]
    },
    {
      "cell_type": "code",
      "source": [
        "c = dict([(\"the\",3),(\"a\",10),(2,3)])\n",
        "print(c)"
      ],
      "metadata": {
        "colab": {
          "base_uri": "https://localhost:8080/"
        },
        "id": "wbAMW4HG8pcO",
        "outputId": "3ccfd190-b989-4327-9c76-b21d5fd1168f"
      },
      "execution_count": 6,
      "outputs": [
        {
          "output_type": "stream",
          "name": "stdout",
          "text": [
            "{'the': 3, 'a': 10, 2: 3}\n"
          ]
        }
      ]
    },
    {
      "cell_type": "code",
      "source": [
        "d = dict.fromkeys([\"abc\",32,4])\n",
        "print(d)\n",
        "\n",
        "d = dict.fromkeys([\"abc\",32,4], 0)\n",
        "print(d)"
      ],
      "metadata": {
        "colab": {
          "base_uri": "https://localhost:8080/"
        },
        "id": "E1OLkom19Bc2",
        "outputId": "a7926569-c2b1-4148-e7b9-d79be7b10ca6"
      },
      "execution_count": 10,
      "outputs": [
        {
          "output_type": "stream",
          "name": "stdout",
          "text": [
            "{'abc': None, 32: None, 4: None}\n",
            "{'abc': 0, 32: 0, 4: 0}\n"
          ]
        }
      ]
    },
    {
      "cell_type": "code",
      "source": [
        "a = {1:2, 3:4, \"list\":[1,23], \"dict\":{1:2}}\n",
        "print(a)\n",
        "print(a[1])\n",
        "print(a[3])\n",
        "print(a['list'])\n",
        "print(a['dict'])\n",
        "\n",
        "print(a.items())\n",
        "print(a.keys())\n",
        "print(a.values())"
      ],
      "metadata": {
        "colab": {
          "base_uri": "https://localhost:8080/"
        },
        "id": "B_e4Mkf49tV2",
        "outputId": "0579ed0c-7674-4e76-bbe4-2284dbe8faee"
      },
      "execution_count": 13,
      "outputs": [
        {
          "output_type": "stream",
          "name": "stdout",
          "text": [
            "{1: 2, 3: 4, 'list': [1, 23], 'dict': {1: 2}}\n",
            "2\n",
            "4\n",
            "[1, 23]\n",
            "{1: 2}\n",
            "dict_items([(1, 2), (3, 4), ('list', [1, 23]), ('dict', {1: 2})])\n",
            "dict_keys([1, 3, 'list', 'dict'])\n",
            "dict_values([2, 4, [1, 23], {1: 2}])\n"
          ]
        }
      ]
    },
    {
      "cell_type": "code",
      "source": [
        "a = {1:2, 3:4, \"list\":[1,23], \"dict\":{1:2}}\n",
        "for i in a:\n",
        "  print(i, '\\t',a[i])\n",
        "\n",
        "for i in a.values():\n",
        "  print(i)"
      ],
      "metadata": {
        "colab": {
          "base_uri": "https://localhost:8080/"
        },
        "id": "EXcfhNiW_Ewj",
        "outputId": "5120ffdc-2f3c-4881-a6d7-ac87d85c6bfd"
      },
      "execution_count": 17,
      "outputs": [
        {
          "output_type": "stream",
          "name": "stdout",
          "text": [
            "1 \t 2\n",
            "3 \t 4\n",
            "list \t [1, 23]\n",
            "dict \t {1: 2}\n",
            "2\n",
            "4\n",
            "[1, 23]\n",
            "{1: 2}\n"
          ]
        }
      ]
    },
    {
      "cell_type": "code",
      "source": [
        "# By default get() returns None or second argument(here 5) if the key is not present otherwise it will return the value\n",
        "d = {1:2, 'abc':5, 'def':7}\n",
        "print(d.get(0,5))"
      ],
      "metadata": {
        "colab": {
          "base_uri": "https://localhost:8080/"
        },
        "id": "U-Rh3Ksi_0g4",
        "outputId": "7cfeaa6b-d4c4-4fdb-d49d-3dc19984f68d"
      },
      "execution_count": 19,
      "outputs": [
        {
          "output_type": "stream",
          "name": "stdout",
          "text": [
            "5\n"
          ]
        }
      ]
    },
    {
      "cell_type": "code",
      "source": [
        "d = {1:2, 'abc':5, 'def':7}\n",
        "if 2 in d:\n",
        "    print('Present')\n",
        "else:\n",
        "    print('Not Present')"
      ],
      "metadata": {
        "colab": {
          "base_uri": "https://localhost:8080/"
        },
        "id": "VQpKZqFtA8bK",
        "outputId": "9105c261-caff-4eac-b203-ed47171b8afb"
      },
      "execution_count": 20,
      "outputs": [
        {
          "output_type": "stream",
          "name": "stdout",
          "text": [
            "Not Present\n"
          ]
        }
      ]
    },
    {
      "cell_type": "code",
      "source": [
        "# Add data in dictionary\n",
        "a = {1:2, 3:4, \"list\":[1,23], \"dict\":{1:2}}\n",
        "a['tuple']=(1,2,3)\n",
        "print(a)\n",
        "\n",
        "\n",
        "# Update data in dictionary\n",
        "a['tuple']=(1,2,3,4,5)\n",
        "print(a)\n",
        "\n",
        "b = {3:5, 'the':4, 2:100}\n",
        "a.update(b)\n",
        "print(a)\n",
        "\n",
        "\n",
        "# Delete data in dictionary\n",
        "print(a.pop(2))\n",
        "print(a)\n",
        "\n",
        "del a[3]\n",
        "print(a)\n",
        "\n",
        "\n",
        "# Deleting or Clearing whole dictionary\n",
        "a.clear()  # Empties the dictionary\n",
        "print(a)\n",
        "\n",
        "del a      # deletes the dictionary"
      ],
      "metadata": {
        "colab": {
          "base_uri": "https://localhost:8080/"
        },
        "id": "sFfeKoDKBi23",
        "outputId": "d7449748-656a-496f-fe35-562e42b2fa73"
      },
      "execution_count": 32,
      "outputs": [
        {
          "output_type": "stream",
          "name": "stdout",
          "text": [
            "{1: 2, 3: 4, 'list': [1, 23], 'dict': {1: 2}, 'tuple': (1, 2, 3)}\n",
            "{1: 2, 3: 4, 'list': [1, 23], 'dict': {1: 2}, 'tuple': (1, 2, 3, 4, 5)}\n",
            "{1: 2, 3: 5, 'list': [1, 23], 'dict': {1: 2}, 'tuple': (1, 2, 3, 4, 5), 'the': 4, 2: 100}\n",
            "100\n",
            "{1: 2, 3: 5, 'list': [1, 23], 'dict': {1: 2}, 'tuple': (1, 2, 3, 4, 5), 'the': 4}\n",
            "{1: 2, 'list': [1, 23], 'dict': {1: 2}, 'tuple': (1, 2, 3, 4, 5), 'the': 4}\n",
            "{}\n"
          ]
        }
      ]
    },
    {
      "cell_type": "code",
      "source": [
        "a = {1:2, 'list':[1,2], 3:5}\n",
        "b = {4:5,3:7}\n",
        "a.update(b)\n",
        "print(a[3])"
      ],
      "metadata": {
        "colab": {
          "base_uri": "https://localhost:8080/"
        },
        "id": "GA__KvvLDzyh",
        "outputId": "0e7e9576-ed87-459c-911c-c1df51ecca93"
      },
      "execution_count": 33,
      "outputs": [
        {
          "output_type": "stream",
          "name": "stdout",
          "text": [
            "7\n"
          ]
        }
      ]
    },
    {
      "cell_type": "code",
      "source": [
        "a = {1:2, 'list':[1,2], 3:5}\n",
        "a.pop('list')\n",
        "a['list'] = [3,5]\n",
        "print(a['list'])"
      ],
      "metadata": {
        "colab": {
          "base_uri": "https://localhost:8080/"
        },
        "id": "Fqjl2nIWEJR6",
        "outputId": "3515e2d8-4f44-46cd-e9af-95d6f22bda68"
      },
      "execution_count": 34,
      "outputs": [
        {
          "output_type": "stream",
          "name": "stdout",
          "text": [
            "[3, 5]\n"
          ]
        }
      ]
    },
    {
      "cell_type": "code",
      "source": [
        "# Print the words from the string which has frequency k\n",
        "s = \"this is a word string having many many word\"\n",
        "k = 2\n",
        "words = s.split()\n",
        "print(words)\n",
        "\n",
        "print()\n",
        "# Logic-1\n",
        "d = {}\n",
        "for w in words:\n",
        "  if w in d:\n",
        "    d[w]=d[w]+1\n",
        "  else:\n",
        "    d[w]=1\n",
        "print(d)\n",
        "\n",
        "for x in d:\n",
        "  if d[x]==k:\n",
        "    print(x)\n",
        "\n",
        "\n",
        "print()\n",
        "# Logic-2\n",
        "d = {}\n",
        "for w in words:\n",
        "  d[w]=d.get(w,0)+1\n",
        "print(d)\n",
        "\n",
        "for x in d:\n",
        "  if d[x]==k:\n",
        "    print(x)"
      ],
      "metadata": {
        "colab": {
          "base_uri": "https://localhost:8080/"
        },
        "id": "aSPO7UlWFfe1",
        "outputId": "52263383-effe-4439-a7fc-424a4eba2ef7"
      },
      "execution_count": 37,
      "outputs": [
        {
          "output_type": "stream",
          "name": "stdout",
          "text": [
            "['this', 'is', 'a', 'word', 'string', 'having', 'many', 'many', 'word']\n",
            "\n",
            "{'this': 1, 'is': 1, 'a': 1, 'word': 2, 'string': 1, 'having': 1, 'many': 2}\n",
            "word\n",
            "many\n",
            "\n",
            "{'this': 1, 'is': 1, 'a': 1, 'word': 2, 'string': 1, 'having': 1, 'many': 2}\n",
            "word\n",
            "many\n"
          ]
        }
      ]
    },
    {
      "cell_type": "markdown",
      "source": [
        "**SETS**"
      ],
      "metadata": {
        "id": "H-L5MR52Gsep"
      }
    },
    {
      "cell_type": "code",
      "source": [
        "# There is no indexing in sets\n",
        "a = set()               # creating empty set\n",
        "a = {\"abc\",\"def\",23}\n",
        "print(type(a))\n",
        "print(a)\n",
        "\n",
        "print()\n",
        "for v in a:\n",
        "  print(v)\n",
        "\n",
        "print('\\n',len(a),'\\n')\n",
        "\n",
        "# adding element to sets\n",
        "a.add(\"temp\")\n",
        "print(a,'\\n')\n",
        "\n",
        "# updating sets\n",
        "b = {'abc','ghi'}\n",
        "a.update(b)\n",
        "print(a,'\\n')\n",
        "\n",
        "# removing values from sets\n",
        "a.remove('temp')\n",
        "a.discard(23)     # discard is better than remove because we do not get errors in discard if the value is not present\n",
        "print(a,'\\n')\n",
        "\n",
        "# clearing and deleting sets\n",
        "a.clear()\n",
        "print(a)\n",
        "del a"
      ],
      "metadata": {
        "colab": {
          "base_uri": "https://localhost:8080/"
        },
        "id": "XtrZRBQcGuJm",
        "outputId": "d03397ab-82c1-4acd-9cc8-5e7661f1b83e"
      },
      "execution_count": 58,
      "outputs": [
        {
          "output_type": "stream",
          "name": "stdout",
          "text": [
            "<class 'set'>\n",
            "{'def', 23, 'abc'}\n",
            "\n",
            "def\n",
            "23\n",
            "abc\n",
            "\n",
            " 3 \n",
            "\n",
            "{'def', 23, 'temp', 'abc'} \n",
            "\n",
            "{'ghi', 'temp', 23, 'abc', 'def'} \n",
            "\n",
            "{'ghi', 'abc', 'def'} \n",
            "\n",
            "set()\n"
          ]
        }
      ]
    },
    {
      "cell_type": "code",
      "source": [
        "# Functions in Sets\n",
        "\n",
        "a = {1,2,3,4}\n",
        "b = {3,4,5,6}\n",
        "\n",
        "print(a.intersection(b),'\\n')\n",
        "\n",
        "print(a.union(b),'\\n')\n",
        "\n",
        "print(a.difference(b),'\\n')\n",
        "\n",
        "print(b.difference(a),'\\n')\n",
        "\n",
        "a.symmetric_difference(b)    # Union-Intersecion\n",
        "print(a,'\\n')\n",
        "\n",
        "a.intersection_update(b)  # Gets intersection and updates to a\n",
        "print(a,'\\n')\n",
        "\n",
        "a.difference_update(b)\n",
        "print(a,'\\n')\n",
        "\n",
        "a.symmetric_difference_update(b)\n",
        "print(a,'\\n')\n"
      ],
      "metadata": {
        "colab": {
          "base_uri": "https://localhost:8080/"
        },
        "id": "ORs0m4ZyMYrf",
        "outputId": "c9bdde80-ec0d-4b3d-ed8a-c1b049267d32"
      },
      "execution_count": 54,
      "outputs": [
        {
          "output_type": "stream",
          "name": "stdout",
          "text": [
            "{3, 4} \n",
            "\n",
            "{1, 2, 3, 4, 5, 6} \n",
            "\n",
            "{1, 2} \n",
            "\n",
            "{5, 6} \n",
            "\n",
            "{1, 2, 3, 4} \n",
            "\n",
            "{3, 4} \n",
            "\n",
            "set() \n",
            "\n",
            "{3, 4, 5, 6} \n",
            "\n"
          ]
        }
      ]
    },
    {
      "cell_type": "code",
      "source": [
        "a = {1,2,3,4}\n",
        "b = {3,4,5,6}\n",
        "c = {3,4}\n",
        "d = {7,8}\n",
        "\n",
        "print(a.issubset(b),'\\n')\n",
        "\n",
        "print(a.issubset(c),'\\n')\n",
        "\n",
        "print(c.issubset(a),'\\n')\n",
        "\n",
        "print(a.issuperset(c),'\\n')\n",
        "\n",
        "print(a.isdisjoint(b),'\\n')\n",
        "\n",
        "print(a.isdisjoint(d),'\\n')"
      ],
      "metadata": {
        "colab": {
          "base_uri": "https://localhost:8080/"
        },
        "id": "v34zTwfXPg-I",
        "outputId": "912850c2-89a8-4a5c-87ee-bbbe97100743"
      },
      "execution_count": 56,
      "outputs": [
        {
          "output_type": "stream",
          "name": "stdout",
          "text": [
            "False \n",
            "\n",
            "False \n",
            "\n",
            "True \n",
            "\n",
            "True \n",
            "\n",
            "False \n",
            "\n",
            "True \n",
            "\n"
          ]
        }
      ]
    },
    {
      "cell_type": "code",
      "source": [
        "s = {1,2,3,5,4,2,3,1}\n",
        "print(len(s),end= ' ')\n",
        "s.add(4)\n",
        "s.add(3)\n",
        "print(len(s))"
      ],
      "metadata": {
        "colab": {
          "base_uri": "https://localhost:8080/"
        },
        "id": "dV7pAw6VQOaW",
        "outputId": "d416a086-64d7-4f50-c195-d0aaa7cbd9ee"
      },
      "execution_count": 57,
      "outputs": [
        {
          "output_type": "stream",
          "name": "stdout",
          "text": [
            "5 5\n"
          ]
        }
      ]
    },
    {
      "cell_type": "code",
      "source": [
        "# Sum of unique elements in list\n",
        "def sumUnique(l):\n",
        "    s=set()\n",
        "    for i in l:\n",
        "        s.add(i)\n",
        "    sum=0\n",
        "    for i in s:\n",
        "        sum=sum+i\n",
        "    return sum\n",
        "\n",
        "print(sumUnique([1,2,3,4,3,4,2,1,5,5]))"
      ],
      "metadata": {
        "colab": {
          "base_uri": "https://localhost:8080/"
        },
        "id": "fHKYDTG2RJ8K",
        "outputId": "7ef5c002-c95b-4e0c-d489-413da6224a6f"
      },
      "execution_count": 61,
      "outputs": [
        {
          "output_type": "stream",
          "name": "stdout",
          "text": [
            "15\n"
          ]
        }
      ]
    }
  ]
}