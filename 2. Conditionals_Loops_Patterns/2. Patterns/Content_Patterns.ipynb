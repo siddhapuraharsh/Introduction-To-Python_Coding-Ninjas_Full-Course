{
  "nbformat": 4,
  "nbformat_minor": 0,
  "metadata": {
    "colab": {
      "name": "Content_Patterns",
      "provenance": [],
      "collapsed_sections": []
    },
    "kernelspec": {
      "name": "python3",
      "display_name": "Python 3"
    },
    "language_info": {
      "name": "python"
    }
  },
  "cells": [
    {
      "cell_type": "code",
      "source": [
        "'''\n",
        "Print the following pattern for the given N number of rows.\n",
        "Pattern for N = 4\n",
        "*\n",
        "**\n",
        "***\n",
        "****\n",
        "'''\n",
        "\n",
        "n = int(input())\n",
        "\n",
        "i = 1\n",
        "while(i<=n):\n",
        "    j = 1\n",
        "    while(j<=i):\n",
        "        print('*', end='')\n",
        "        j += 1\n",
        "    print()\n",
        "    i += 1"
      ],
      "metadata": {
        "colab": {
          "base_uri": "https://localhost:8080/"
        },
        "id": "xXPImWN8EYnP",
        "outputId": "2a5d2e33-8d1d-460d-91c4-5af82ac2c594"
      },
      "execution_count": null,
      "outputs": [
        {
          "output_type": "stream",
          "name": "stdout",
          "text": [
            "4\n",
            "*\n",
            "**\n",
            "***\n",
            "****\n"
          ]
        }
      ]
    },
    {
      "cell_type": "code",
      "execution_count": null,
      "metadata": {
        "colab": {
          "base_uri": "https://localhost:8080/"
        },
        "id": "1mU8FNfmgtA-",
        "outputId": "d5773607-49ae-4091-e7f6-dd0ad2dd9696"
      },
      "outputs": [
        {
          "output_type": "stream",
          "name": "stdout",
          "text": [
            "4\n",
            "1\n",
            "21\n",
            "321\n",
            "4321\n"
          ]
        }
      ],
      "source": [
        "'''\n",
        "Print the following pattern for the given N number of rows.\n",
        "Pattern for N = 4\n",
        "1\n",
        "21\n",
        "321\n",
        "4321\n",
        "'''\n",
        "\n",
        "n = int(input())\n",
        "\n",
        "i = 1\n",
        "while(i<=n):\n",
        "    j = i\n",
        "    while(j>=1):\n",
        "        print(j, end='')\n",
        "        j -= 1\n",
        "    print()\n",
        "    i += 1"
      ]
    },
    {
      "cell_type": "code",
      "source": [
        "'''\n",
        "Print the following pattern for the given N number of rows.\n",
        "Pattern for N = 4\n",
        "1\n",
        "22\n",
        "333\n",
        "4444\n",
        "'''\n",
        "\n",
        "n = int(input())\n",
        "\n",
        "i = 1\n",
        "while(i<=n):\n",
        "    j = 1\n",
        "    while(j<=i):\n",
        "        print(i, end='')\n",
        "        j += 1\n",
        "    print()\n",
        "    i += 1"
      ],
      "metadata": {
        "colab": {
          "base_uri": "https://localhost:8080/"
        },
        "id": "RERVzNENEIbH",
        "outputId": "1440b788-650e-4f81-8c95-f96bef6388e1"
      },
      "execution_count": null,
      "outputs": [
        {
          "output_type": "stream",
          "name": "stdout",
          "text": [
            "4\n",
            "1\n",
            "22\n",
            "333\n",
            "4444\n"
          ]
        }
      ]
    },
    {
      "cell_type": "code",
      "source": [
        "'''\n",
        "Pattern for N=4\n",
        "ABCD\n",
        "ABCD\n",
        "ABCD\n",
        "ABCD\n",
        "'''\n",
        "\n",
        "n = int(input())\n",
        "\n",
        "i = 1\n",
        "while(i<=n):\n",
        "  j = 1\n",
        "  while(j<=n):\n",
        "    charP = chr(ord('A') + j - 1)\n",
        "    print(charP, end='')\n",
        "    j += 1\n",
        "  print()\n",
        "  i += 1"
      ],
      "metadata": {
        "colab": {
          "base_uri": "https://localhost:8080/"
        },
        "id": "cBr-qGFVEikj",
        "outputId": "e7585b5c-84c6-4608-c816-f9cd7200fa0c"
      },
      "execution_count": null,
      "outputs": [
        {
          "output_type": "stream",
          "name": "stdout",
          "text": [
            "4\n",
            "ABCD\n",
            "ABCD\n",
            "ABCD\n",
            "ABCD\n"
          ]
        }
      ]
    },
    {
      "cell_type": "code",
      "source": [
        "'''\n",
        "Pattern for N=4\n",
        "ABCD\n",
        "BCDE\n",
        "CDEF\n",
        "DEFG\n",
        "'''\n",
        "\n",
        "n = int(input())\n",
        "\n",
        "i = 1\n",
        "while(i<=n):\n",
        "  j = 1\n",
        "  start_char = chr(ord('A') + i - 1)\n",
        "  while(j<=n):\n",
        "    charP = chr(ord(start_char) + j - 1)\n",
        "    print(charP, end='')\n",
        "    j += 1\n",
        "  print()\n",
        "  i += 1"
      ],
      "metadata": {
        "colab": {
          "base_uri": "https://localhost:8080/"
        },
        "id": "jFCT28WrGjnO",
        "outputId": "e2cf65b5-350e-488f-f4e5-35bd07622571"
      },
      "execution_count": null,
      "outputs": [
        {
          "output_type": "stream",
          "name": "stdout",
          "text": [
            "4\n",
            "ABCD\n",
            "BCDE\n",
            "CDEF\n",
            "DEFG\n"
          ]
        }
      ]
    },
    {
      "cell_type": "code",
      "source": [
        "'''\n",
        "Print the following pattern for the given N number of rows.\n",
        "Pattern for N = 4\n",
        "A\n",
        "BC\n",
        "CDE\n",
        "DEFG\n",
        "'''\n",
        "\n",
        "n = int(input())\n",
        "\n",
        "i = 1\n",
        "while(i<=n):\n",
        "    j = 1\n",
        "    start_char = chr(ord('A') + i - 1)\n",
        "    while(j<=i):\n",
        "        charP = chr(ord(start_char) + j - 1)\n",
        "        print(charP, end='')\n",
        "        j += 1\n",
        "    print()\n",
        "    i += 1"
      ],
      "metadata": {
        "colab": {
          "base_uri": "https://localhost:8080/"
        },
        "id": "b0t_in-vIE_7",
        "outputId": "589f67a7-49e6-42da-d5a3-c57a9b1b7c0b"
      },
      "execution_count": null,
      "outputs": [
        {
          "output_type": "stream",
          "name": "stdout",
          "text": [
            "4\n",
            "A\n",
            "BC\n",
            "CDE\n",
            "DEFG\n"
          ]
        }
      ]
    },
    {
      "cell_type": "code",
      "source": [
        "'''\n",
        "Print the following pattern for the given number of rows.\n",
        "Pattern for N = 5\n",
        "E\n",
        "DE\n",
        "CDE\n",
        "BCDE\n",
        "ABCDE\n",
        "'''\n",
        "\n",
        "n = int(input())\n",
        "\n",
        "temp = n\n",
        "i = 1\n",
        "while(i<=n):\n",
        "    j = 1\n",
        "    start_char = chr(ord('A') + temp - 1)\n",
        "    while(j<=i):\n",
        "        charP = chr(ord(start_char) + j - 1)\n",
        "        print(charP, end='')\n",
        "        j += 1\n",
        "    temp -= 1\n",
        "    print()\n",
        "    i += 1"
      ],
      "metadata": {
        "colab": {
          "base_uri": "https://localhost:8080/"
        },
        "id": "3zyy0BuZQB0v",
        "outputId": "dccb61c9-7f6a-4d13-d7ca-9644616cf152"
      },
      "execution_count": null,
      "outputs": [
        {
          "output_type": "stream",
          "name": "stdout",
          "text": [
            "5\n",
            "E\n",
            "DE\n",
            "CDE\n",
            "BCDE\n",
            "ABCDE\n"
          ]
        }
      ]
    },
    {
      "cell_type": "code",
      "source": [
        "'''\n",
        "Print the following pattern for the given N number of rows.\n",
        "Pattern for N = 4\n",
        "1\n",
        "11\n",
        "111\n",
        "1111\n",
        "'''\n",
        "\n",
        "n = int(input())\n",
        "i = 1\n",
        "while(i<=n):\n",
        "    j = 1\n",
        "    while(j<=i):\n",
        "        print('1', end='')\n",
        "        j += 1\n",
        "    print()\n",
        "    i += 1"
      ],
      "metadata": {
        "colab": {
          "base_uri": "https://localhost:8080/"
        },
        "id": "NWSBP0A6SARH",
        "outputId": "1476df44-0d89-46b1-de36-344a0f04e16a"
      },
      "execution_count": null,
      "outputs": [
        {
          "output_type": "stream",
          "name": "stdout",
          "text": [
            "4\n",
            "1\n",
            "11\n",
            "111\n",
            "1111\n"
          ]
        }
      ]
    },
    {
      "cell_type": "code",
      "source": [
        "'''\n",
        "Print the following pattern for the given N number of rows.\n",
        "Pattern for N = 4\n",
        "1\n",
        "11\n",
        "202\n",
        "3003\n",
        "'''\n",
        "\n",
        "n = int(input())\n",
        "i = 1\n",
        "while(i<=n): \n",
        "    j = 1\n",
        "    while(j<=i):\n",
        "        if(i==1):\n",
        "            print(\"1\", end='')\n",
        "        elif(j==1 or j==i):\n",
        "            print(i-1, end='')\n",
        "        else:\n",
        "            print(0, end='')\n",
        "        j += 1\n",
        "    print()\n",
        "    i += 1"
      ],
      "metadata": {
        "colab": {
          "base_uri": "https://localhost:8080/"
        },
        "id": "etPK0lxbS8xK",
        "outputId": "829d5ffc-a695-4560-ab16-263fb6751a19"
      },
      "execution_count": null,
      "outputs": [
        {
          "output_type": "stream",
          "name": "stdout",
          "text": [
            "4\n",
            "1\n",
            "11\n",
            "202\n",
            "3003\n"
          ]
        }
      ]
    },
    {
      "cell_type": "code",
      "source": [
        "'''\n",
        "Print the following pattern for the given N number of rows.\n",
        "Pattern for N = 4\n",
        "1\n",
        "11\n",
        "121\n",
        "1221\n",
        "'''\n",
        "\n",
        "n = int(input())\n",
        "i = 1\n",
        "while(i<=n): \n",
        "    j = 1\n",
        "    while(j<=i):\n",
        "        if(i==1):\n",
        "            print(\"1\", end='')\n",
        "        elif(j==1 or j==i):\n",
        "            print(1, end='')\n",
        "        else:\n",
        "            print(2, end='')\n",
        "        j += 1\n",
        "    print()\n",
        "    i += 1"
      ],
      "metadata": {
        "colab": {
          "base_uri": "https://localhost:8080/"
        },
        "id": "7SML9MbIXsao",
        "outputId": "9d1e5c8a-efae-4cfc-faeb-e706ecf35938"
      },
      "execution_count": null,
      "outputs": [
        {
          "output_type": "stream",
          "name": "stdout",
          "text": [
            "4\n",
            "1\n",
            "11\n",
            "121\n",
            "1221\n"
          ]
        }
      ]
    },
    {
      "cell_type": "code",
      "source": [
        "'''\n",
        "Print the following pattern for the given N number of rows.\n",
        "Pattern for N = 4\n",
        "1234\n",
        "123\n",
        "12\n",
        "1\n",
        "'''\n",
        "\n",
        "n = int(input())\n",
        "i = n\n",
        "while(i>=1):\n",
        "    j = 1\n",
        "    while(j<=i):\n",
        "        print(j, end='')\n",
        "        j += 1\n",
        "    print()\n",
        "    i -= 1"
      ],
      "metadata": {
        "colab": {
          "base_uri": "https://localhost:8080/"
        },
        "id": "V0kIUD7lX5Mv",
        "outputId": "ab5f5bf6-2e99-4019-9884-71fd7042e2c6"
      },
      "execution_count": null,
      "outputs": [
        {
          "output_type": "stream",
          "name": "stdout",
          "text": [
            "4\n",
            "1234\n",
            "123\n",
            "12\n",
            "1\n"
          ]
        }
      ]
    },
    {
      "cell_type": "code",
      "source": [
        "'''\n",
        "Print the following pattern for the given N number of rows.\n",
        "Pattern for N = 3\n",
        " A\n",
        " BB\n",
        " CCC\n",
        " '''\n",
        "\n",
        "n = int(input())\n",
        "i = 1\n",
        "while(i<=n):\n",
        "    j = 1\n",
        "    charP = chr(ord('A') + i - 1)\n",
        "    while(j<=i):\n",
        "        print(charP, end='')\n",
        "        j += 1\n",
        "    print()\n",
        "    i += 1"
      ],
      "metadata": {
        "colab": {
          "base_uri": "https://localhost:8080/"
        },
        "id": "WKPy-kXPcxUA",
        "outputId": "4c6e699b-8fb4-4ee2-9bf1-dd22e4aa98d3"
      },
      "execution_count": null,
      "outputs": [
        {
          "output_type": "stream",
          "name": "stdout",
          "text": [
            "3\n",
            "A\n",
            "BB\n",
            "CCC\n"
          ]
        }
      ]
    },
    {
      "cell_type": "code",
      "source": [
        "'''\n",
        "****\n",
        "***\n",
        "**\n",
        "*\n",
        "'''\n",
        "\n",
        "n = int(input())\n",
        "i = 1\n",
        "while(i<=n):\n",
        "  j = 1\n",
        "  while(j <= n-i+1):\n",
        "    print('*', end='')\n",
        "    j += 1\n",
        "  print()\n",
        "  i += 1"
      ],
      "metadata": {
        "colab": {
          "base_uri": "https://localhost:8080/"
        },
        "id": "ibGONVKoo1mt",
        "outputId": "dc440c2a-e09e-47ec-d744-dee43c993841"
      },
      "execution_count": null,
      "outputs": [
        {
          "output_type": "stream",
          "name": "stdout",
          "text": [
            "4\n",
            "****\n",
            "***\n",
            "**\n",
            "*\n"
          ]
        }
      ]
    },
    {
      "cell_type": "code",
      "source": [
        "'''\n",
        "Print the following pattern for the given N number of rows.\n",
        "Pattern for N = 4\n",
        "4444\n",
        "333\n",
        "22\n",
        "1\n",
        "'''\n",
        "\n",
        "n = int(input())\n",
        "i = n\n",
        "while(i>=1):\n",
        "    j = 1\n",
        "    while(j <= i):\n",
        "        print(i, end='')\n",
        "        j += 1\n",
        "    print()\n",
        "    i -= 1"
      ],
      "metadata": {
        "colab": {
          "base_uri": "https://localhost:8080/"
        },
        "id": "va977mDlphA0",
        "outputId": "bcef57e6-0ea0-454c-a7a9-ed16c09cef8a"
      },
      "execution_count": null,
      "outputs": [
        {
          "output_type": "stream",
          "name": "stdout",
          "text": [
            "5\n",
            "55555\n",
            "4444\n",
            "333\n",
            "22\n",
            "1\n"
          ]
        }
      ]
    },
    {
      "cell_type": "code",
      "source": [
        "'''\n",
        "   *\n",
        "  **\n",
        " ***\n",
        "****\n",
        "'''\n",
        "\n",
        "n = int(input())\n",
        "i = 1\n",
        "while(i<=n):\n",
        "    spaces = 1\n",
        "    while(spaces <= n-i):\n",
        "        print(' ', end='')\n",
        "        spaces += 1\n",
        "    stars = 1\n",
        "    while(stars <= i):\n",
        "        print('*', end='')\n",
        "        stars += 1\n",
        "    print()\n",
        "    i += 1"
      ],
      "metadata": {
        "colab": {
          "base_uri": "https://localhost:8080/"
        },
        "id": "9BZKNmiIqYQ7",
        "outputId": "fbe8dce5-2654-4a9e-9d18-2857b95be075"
      },
      "execution_count": null,
      "outputs": [
        {
          "output_type": "stream",
          "name": "stdout",
          "text": [
            "4\n",
            "   *\n",
            "  **\n",
            " ***\n",
            "****\n"
          ]
        }
      ]
    },
    {
      "cell_type": "code",
      "source": [
        "'''\n",
        "Print the following pattern for the given N number of rows.\n",
        "Pattern for N = 4\n",
        "\n",
        "   1\n",
        "  12\n",
        " 123\n",
        "1234\n",
        "'''\n",
        "\n",
        "n = int(input())\n",
        "i = 1\n",
        "while(i<=n):\n",
        "    spaces = 1\n",
        "    while(spaces <= n-i):\n",
        "        print(' ', end='')\n",
        "        spaces += 1\n",
        "    num = 1\n",
        "    while(num <= i):\n",
        "        print(num, end='')\n",
        "        num += 1\n",
        "    print()\n",
        "    i += 1"
      ],
      "metadata": {
        "colab": {
          "base_uri": "https://localhost:8080/"
        },
        "id": "sySPuKUWtEQs",
        "outputId": "c1baaa91-4c90-454f-e3eb-ee63732eb7ba"
      },
      "execution_count": null,
      "outputs": [
        {
          "output_type": "stream",
          "name": "stdout",
          "text": [
            "4\n",
            "   1\n",
            "  12\n",
            " 123\n",
            "1234\n"
          ]
        }
      ]
    },
    {
      "cell_type": "code",
      "source": [
        "'''\n",
        "Print the following pattern for the given N number of rows.\n",
        "Pattern for N = 4\n",
        "\n",
        "   1\n",
        "  121\n",
        " 12321\n",
        "1234321\n",
        "'''\n",
        "\n",
        "n = int(input())\n",
        "i = 1\n",
        "while(i<=n):\n",
        "\n",
        "    spaces = 1\n",
        "    while(spaces <= n-i):\n",
        "        print(' ', end='')\n",
        "        spaces += 1\n",
        "\n",
        "    inc_num = 1\n",
        "    while(inc_num <= i):\n",
        "        print(inc_num, end='')\n",
        "        inc_num += 1\n",
        "\n",
        "    dec_num = i-1\n",
        "    while(dec_num>=1):\n",
        "      print(dec_num, end='')\n",
        "      dec_num -= 1\n",
        "\n",
        "    print()\n",
        "    i += 1"
      ],
      "metadata": {
        "colab": {
          "base_uri": "https://localhost:8080/"
        },
        "id": "Vsjfg-VfuYua",
        "outputId": "04d06a00-aaf0-4b4e-9bb9-a4bf4b9e3b88"
      },
      "execution_count": null,
      "outputs": [
        {
          "output_type": "stream",
          "name": "stdout",
          "text": [
            "4\n",
            "   1\n",
            "  121\n",
            " 12321\n",
            "1234321\n"
          ]
        }
      ]
    },
    {
      "cell_type": "code",
      "source": [
        "'''\n",
        "Print the following pattern\n",
        "Pattern for N = 4\n",
        "\n",
        "   *\n",
        "  ***\n",
        " *****\n",
        "*******\n",
        "'''\n",
        "\n",
        "n = int(input())\n",
        "i = 1\n",
        "while(i<=n):\n",
        "    \n",
        "    spaces = 1\n",
        "    while(spaces <= n-i):\n",
        "        print(' ', end='')\n",
        "        spaces += 1\n",
        "        \n",
        "    inc_stars = 1\n",
        "    while(inc_stars<=i):\n",
        "        print('*', end='')\n",
        "        inc_stars += 1\n",
        "        \n",
        "    dec_stars = i-1\n",
        "    while(dec_stars>=1):\n",
        "        print('*', end='')\n",
        "        dec_stars -= 1\n",
        "        \n",
        "    print()\n",
        "    i += 1"
      ],
      "metadata": {
        "colab": {
          "base_uri": "https://localhost:8080/"
        },
        "id": "XLLLL2-pvMin",
        "outputId": "01514ad3-3de9-481c-ed0f-7989e2db062a"
      },
      "execution_count": null,
      "outputs": [
        {
          "output_type": "stream",
          "name": "stdout",
          "text": [
            "4\n",
            "   *\n",
            "  ***\n",
            " *****\n",
            "*******\n"
          ]
        }
      ]
    },
    {
      "cell_type": "code",
      "source": [
        "'''\n",
        "Print the following pattern for the given number of rows.\n",
        "Pattern for N = 4\n",
        "\n",
        "    1\n",
        "   232\n",
        "  34543\n",
        " 4567654\n",
        "567898765\n",
        "'''\n",
        "\n",
        "n = int(input())\n",
        "i = 1\n",
        "while(i<=n):\n",
        "    \n",
        "    spaces = 1\n",
        "    while(spaces <= n-i):\n",
        "        print(' ', end='')\n",
        "        spaces += 1\n",
        "        \n",
        "    col = 1\n",
        "    inc_num = i\n",
        "    while(col<=i):\n",
        "        print(inc_num, end='')\n",
        "        inc_num += 1\n",
        "        col += 1\n",
        "        \n",
        "    col = 1\n",
        "    dec_num = 2*(i-1)\n",
        "    while(col<i):\n",
        "        print(dec_num, end='')\n",
        "        dec_num -= 1\n",
        "        col += 1\n",
        "    \n",
        "    print()\n",
        "    i += 1"
      ],
      "metadata": {
        "colab": {
          "base_uri": "https://localhost:8080/"
        },
        "id": "5ZDlWYatxngU",
        "outputId": "6a44d8a7-f0db-43d5-cc26-c6ee7fce7e85"
      },
      "execution_count": null,
      "outputs": [
        {
          "output_type": "stream",
          "name": "stdout",
          "text": [
            "5\n",
            "    1\n",
            "   232\n",
            "  34543\n",
            " 4567654\n",
            "567898765\n"
          ]
        }
      ]
    },
    {
      "cell_type": "code",
      "source": [
        "'''\n",
        "Print the following pattern for the given number of rows.\n",
        "Note: N is always odd.\n",
        "Pattern for N = 5\n",
        "\n",
        "  *\n",
        " ***\n",
        "*****\n",
        " ***\n",
        "  *\n",
        "'''\n",
        "\n",
        "n = int(input())\n",
        "i = 0\n",
        "temp = (n//2) + 1\n",
        "while(i < temp):\n",
        "    \n",
        "    spaces = 1\n",
        "    while(spaces <= (n//2)-i):\n",
        "        print(' ', end='')\n",
        "        spaces += 1\n",
        "    \n",
        "    up_stars = 1\n",
        "    while(up_stars <= 2*i+1):\n",
        "        print('*', end='')\n",
        "        up_stars += 1\n",
        "    \n",
        "    print()\n",
        "    i += 1\n",
        "    \n",
        "i = (n-2)//2\n",
        "while(i>=0):\n",
        "    \n",
        "    spaces = 1\n",
        "    while(spaces <= (n//2)-i):\n",
        "        print(' ', end='')\n",
        "        spaces += 1\n",
        "    \n",
        "    down_stars = 1\n",
        "    while(down_stars <= 2*i+1):\n",
        "        print('*', end='')\n",
        "        down_stars += 1\n",
        "        \n",
        "    print()\n",
        "    i -= 1"
      ],
      "metadata": {
        "colab": {
          "base_uri": "https://localhost:8080/"
        },
        "id": "WWf8Fo6fAspj",
        "outputId": "d8b179fd-fdc2-49da-a304-543e8e6fa756"
      },
      "execution_count": null,
      "outputs": [
        {
          "output_type": "stream",
          "name": "stdout",
          "text": [
            "5\n",
            "  *\n",
            " ***\n",
            "*****\n",
            " ***\n",
            "  *\n"
          ]
        }
      ]
    },
    {
      "cell_type": "code",
      "source": [
        "'''\n",
        "Print the following pattern for n number of rows.\n",
        "For eg. N = 5\n",
        "\n",
        "1        1\n",
        "12      21\n",
        "123    321\n",
        "1234  4321\n",
        "1234554321\n",
        "'''\n",
        "\n",
        "n = int(input())\n",
        "rows = 1\n",
        "while(rows<=n):\n",
        "    \n",
        "    col = 1\n",
        "    while(col<=rows):\n",
        "        print(col, end='')\n",
        "        col += 1\n",
        "        \n",
        "    spaces = 1\n",
        "    while(spaces <= n-rows):\n",
        "        print(' ', end='')\n",
        "        spaces += 1\n",
        "        \n",
        "    spaces = 1\n",
        "    while(spaces <= n-rows):\n",
        "        print(' ', end='')\n",
        "        spaces += 1\n",
        "      \n",
        "    col = rows\n",
        "    while(col >= 1):\n",
        "        print(col, end='')\n",
        "        col -= 1\n",
        "    \n",
        "    print()\n",
        "    rows += 1"
      ],
      "metadata": {
        "colab": {
          "base_uri": "https://localhost:8080/"
        },
        "id": "qHSS_5cpXIDc",
        "outputId": "813aa07f-c7a3-45c2-b27e-6c05b815ba37"
      },
      "execution_count": null,
      "outputs": [
        {
          "output_type": "stream",
          "name": "stdout",
          "text": [
            "5\n",
            "1        1\n",
            "12      21\n",
            "123    321\n",
            "1234  4321\n",
            "1234554321\n"
          ]
        }
      ]
    },
    {
      "cell_type": "code",
      "source": [
        "'''\n",
        "Print the following pattern\n",
        "Pattern for N = 4\n",
        "\n",
        "*000*000*\n",
        "0*00*00*0\n",
        "00*0*0*00\n",
        "000***000\n",
        "\n",
        "Pattern for N = 5\n",
        "\n",
        "*0000*0000*\n",
        "0*000*000*0\n",
        "00*00*00*00\n",
        "000*0*0*000\n",
        "0000***0000\n",
        "\n",
        "'''\n",
        "\n",
        "n = int(input())\n",
        "rows = 0\n",
        "while(rows <= n-1):\n",
        "    \n",
        "    zero = 1\n",
        "    while(zero <= rows):\n",
        "        print('0', end='')\n",
        "        zero += 1\n",
        "    \n",
        "    print('*', end='')\n",
        "    \n",
        "    zero = 1\n",
        "    while(zero <= n-rows-1):\n",
        "        print('0', end='')\n",
        "        zero += 1\n",
        "   \n",
        "    print('*', end='')\n",
        "\n",
        "    \n",
        "    zero = 1\n",
        "    while(zero <= n-rows-1):\n",
        "        print('0', end='')\n",
        "        zero += 1\n",
        "        \n",
        "    print('*', end='')\n",
        "    \n",
        "    zero = 1\n",
        "    while(zero <= rows):\n",
        "        print('0', end='')\n",
        "        zero += 1\n",
        "    \n",
        "    print()\n",
        "    rows += 1"
      ],
      "metadata": {
        "colab": {
          "base_uri": "https://localhost:8080/"
        },
        "id": "hdH_Lf9-XYgB",
        "outputId": "5e50dc67-86d1-47de-9989-22260583af01"
      },
      "execution_count": null,
      "outputs": [
        {
          "output_type": "stream",
          "name": "stdout",
          "text": [
            "5\n",
            "*0000*0000*\n",
            "0*000*000*0\n",
            "00*00*00*00\n",
            "000*0*0*000\n",
            "0000***0000\n"
          ]
        }
      ]
    },
    {
      "cell_type": "code",
      "source": [
        "'''\n",
        "Print the following pattern for the given number of rows.\n",
        "Pattern for N = 4\n",
        "   1\n",
        "  212\n",
        " 32123\n",
        "4321234\n",
        "'''\n",
        "\n",
        "n = int(input())\n",
        "row = 1\n",
        "while(row<=n):\n",
        "    \n",
        "    col = 1\n",
        "    while(col <= n-row):\n",
        "        print(' ', end='')\n",
        "        col += 1\n",
        "    \n",
        "    col = row\n",
        "    while(col >= 1):\n",
        "        print(col, end='')\n",
        "        col -= 1\n",
        "        \n",
        "    col = 1\n",
        "    temp = 2\n",
        "    while(col <= row-1):\n",
        "        print(temp, end='')\n",
        "        col += 1\n",
        "        temp += 1\n",
        "         \n",
        "    print()\n",
        "    row += 1"
      ],
      "metadata": {
        "colab": {
          "base_uri": "https://localhost:8080/"
        },
        "id": "Bhp5OzkSyeYj",
        "outputId": "64ad13e6-be6d-4181-da22-d39458adc7ae"
      },
      "execution_count": null,
      "outputs": [
        {
          "output_type": "stream",
          "name": "stdout",
          "text": [
            "4\n",
            "   1\n",
            "  212\n",
            " 32123\n",
            "4321234\n"
          ]
        }
      ]
    },
    {
      "cell_type": "code",
      "source": [
        "'''\n",
        "Print the following pattern for the given number of rows.\n",
        "Assume N is always odd.\n",
        "Note : There is space after every star.\n",
        "Pattern for N = 7\n",
        "\n",
        "*\n",
        " * *\n",
        "   * * *\n",
        "     * * * *\n",
        "   * * *\n",
        " * *\n",
        "*\n",
        "\n",
        "'''\n",
        "\n",
        "n = int(input())\n",
        "row = 1\n",
        "while(row <= (n+1)//2):\n",
        "    \n",
        "    spaces = 1\n",
        "    while(spaces < row):\n",
        "        print(' ', end='')\n",
        "        spaces += 1\n",
        "        \n",
        "    stars = 1\n",
        "    while(stars <= row):\n",
        "        print('* ', end='')\n",
        "        stars += 1\n",
        "        \n",
        "    print()\n",
        "    row += 1\n",
        "\n",
        "row = n//2\n",
        "while(row>=1):\n",
        "    \n",
        "    spaces = 1\n",
        "    while(spaces <= row-1):\n",
        "        print(' ', end='')\n",
        "        spaces += 1\n",
        "        \n",
        "    stars = 1\n",
        "    while(stars <= row):\n",
        "        print('* ', end='')\n",
        "        stars += 1\n",
        "        \n",
        "    print()\n",
        "    row -= 1"
      ],
      "metadata": {
        "colab": {
          "base_uri": "https://localhost:8080/"
        },
        "id": "dl6HBPiH5i_V",
        "outputId": "7c985089-d0d7-4ebd-e732-8e561cd6743a"
      },
      "execution_count": null,
      "outputs": [
        {
          "output_type": "stream",
          "name": "stdout",
          "text": [
            "9\n",
            "* \n",
            " * * \n",
            "  * * * \n",
            "   * * * * \n",
            "    * * * * * \n",
            "   * * * * \n",
            "  * * * \n",
            " * * \n",
            "* \n"
          ]
        }
      ]
    }
  ]
}