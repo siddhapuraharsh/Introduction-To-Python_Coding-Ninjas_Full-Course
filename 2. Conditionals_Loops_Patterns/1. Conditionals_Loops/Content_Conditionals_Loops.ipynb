{
  "nbformat": 4,
  "nbformat_minor": 0,
  "metadata": {
    "colab": {
      "name": "Content_Conditionals_Loops",
      "provenance": [],
      "collapsed_sections": []
    },
    "kernelspec": {
      "name": "python3",
      "display_name": "Python 3"
    },
    "language_info": {
      "name": "python"
    }
  },
  "cells": [
    {
      "cell_type": "markdown",
      "source": [
        "**Relational Operators**"
      ],
      "metadata": {
        "id": "jgHHVukB9BRF"
      }
    },
    {
      "cell_type": "code",
      "execution_count": null,
      "metadata": {
        "colab": {
          "base_uri": "https://localhost:8080/"
        },
        "id": "nktTSmVL8NHD",
        "outputId": "8c341e68-d003-414b-b6ca-3ad9be11e292"
      },
      "outputs": [
        {
          "output_type": "stream",
          "name": "stdout",
          "text": [
            "<class 'bool'>\n",
            "<class 'bool'> \n",
            "\n",
            "False\n",
            "True\n",
            "False\n",
            "True\n",
            "False\n",
            "True\n"
          ]
        }
      ],
      "source": [
        "a = True\n",
        "b = False\n",
        "print(type(a))\n",
        "print(type(b), '\\n')\n",
        "\n",
        "a = 10\n",
        "b = 20\n",
        "print(a>b)\n",
        "print(a<b)\n",
        "print(a>=b)\n",
        "print(a<=b)\n",
        "print(a==b)\n",
        "print(a!=b)"
      ]
    },
    {
      "cell_type": "markdown",
      "source": [
        "**if else Statements**"
      ],
      "metadata": {
        "id": "_EI9ubML5F4M"
      }
    },
    {
      "cell_type": "code",
      "source": [
        "a = int(input())\n",
        "b = int(input())\n",
        "c = int(input())\n",
        "\n",
        "if a>=b and a>=c:\n",
        "  print(a)\n",
        "elif b>=a and b>=c:\n",
        "  print(b)\n",
        "else:\n",
        "  print(c) "
      ],
      "metadata": {
        "colab": {
          "base_uri": "https://localhost:8080/"
        },
        "id": "D1nrIto45tH9",
        "outputId": "664a14cc-7bc4-4edf-ba8b-c2f305e71789"
      },
      "execution_count": null,
      "outputs": [
        {
          "output_type": "stream",
          "name": "stdout",
          "text": [
            "5\n",
            "6\n",
            "5\n",
            "6\n"
          ]
        }
      ]
    },
    {
      "cell_type": "markdown",
      "source": [
        "**Logical Operators**"
      ],
      "metadata": {
        "id": "S7XXvEPdLD8x"
      }
    },
    {
      "cell_type": "code",
      "source": [
        "# AND has higher precedence than or\n",
        "if True or True:\n",
        "    if False and True or False:\n",
        "        print('A')\n",
        "    elif False and False or True and True:\n",
        "       print('B')\n",
        "    else:\n",
        "      print('C')\n",
        "else:\n",
        "     print('D')"
      ],
      "metadata": {
        "colab": {
          "base_uri": "https://localhost:8080/"
        },
        "id": "Py7SxN8mKLbK",
        "outputId": "ee11fd17-f5c5-4427-b714-6ec2f9e7837e"
      },
      "execution_count": null,
      "outputs": [
        {
          "output_type": "stream",
          "name": "stdout",
          "text": [
            "B\n"
          ]
        }
      ]
    },
    {
      "cell_type": "code",
      "source": [
        "# Prime numbers till n\n",
        "n = int(input())\n",
        "k = 2\n",
        "while(k<=n):\n",
        "  count = 2\n",
        "  flag = False\n",
        "  while(count<k):\n",
        "    if(k%count == 0):\n",
        "      flag = True\n",
        "    count += 1\n",
        "  if not(flag):\n",
        "    print(k)\n",
        "  k += 1    "
      ],
      "metadata": {
        "colab": {
          "base_uri": "https://localhost:8080/"
        },
        "id": "1b7RDmqvUPch",
        "outputId": "1ec0759a-249c-476d-fc0f-ddef7ab9682e"
      },
      "execution_count": null,
      "outputs": [
        {
          "output_type": "stream",
          "name": "stdout",
          "text": [
            "10\n",
            "2\n",
            "3\n",
            "5\n",
            "7\n"
          ]
        }
      ]
    }
  ]
}