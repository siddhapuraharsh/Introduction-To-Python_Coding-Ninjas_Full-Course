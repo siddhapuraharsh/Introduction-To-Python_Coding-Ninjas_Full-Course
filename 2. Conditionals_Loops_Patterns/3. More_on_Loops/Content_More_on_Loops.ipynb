{
  "nbformat": 4,
  "nbformat_minor": 0,
  "metadata": {
    "colab": {
      "name": "Content_More_on_Loops",
      "provenance": [],
      "collapsed_sections": []
    },
    "kernelspec": {
      "name": "python3",
      "display_name": "Python 3"
    },
    "language_info": {
      "name": "python"
    }
  },
  "cells": [
    {
      "cell_type": "code",
      "execution_count": null,
      "metadata": {
        "id": "_QzUfbXrL9gd",
        "colab": {
          "base_uri": "https://localhost:8080/"
        },
        "outputId": "9837298d-8bb3-414f-da2d-21d83c2a7c15"
      },
      "outputs": [
        {
          "output_type": "stream",
          "name": "stdout",
          "text": [
            "a\n",
            "b\n",
            "c\n",
            "d\n",
            "e\n",
            "f\n",
            "g\n",
            "h\n"
          ]
        }
      ],
      "source": [
        "n = 'abcdefgh'\n",
        "for i in n:\n",
        "  print(i)"
      ]
    },
    {
      "cell_type": "code",
      "source": [
        "# range(start, end, stride/step) \n",
        "# By default start=0 and stride/step=1\n",
        "\n",
        "n = int(input())\n",
        "\n",
        "# 0 to n\n",
        "for i in range(0,n,1):\n",
        "  print(i)\n",
        "\n",
        "print()\n",
        "# n to 1\n",
        "for i in range(n,0,-1):\n",
        "  print(i)"
      ],
      "metadata": {
        "colab": {
          "base_uri": "https://localhost:8080/"
        },
        "id": "-gP0K_uiOK5X",
        "outputId": "18ddb691-c3af-4d80-d6b1-6f1ec17b6ac4"
      },
      "execution_count": null,
      "outputs": [
        {
          "output_type": "stream",
          "name": "stdout",
          "text": [
            "5\n",
            "0\n",
            "1\n",
            "2\n",
            "3\n",
            "4\n",
            "\n",
            "5\n",
            "4\n",
            "3\n",
            "2\n",
            "1\n"
          ]
        }
      ]
    },
    {
      "cell_type": "code",
      "source": [
        "'''\n",
        "   1\n",
        "  232\n",
        " 34543\n",
        "4567654\n",
        "'''\n",
        "\n",
        "n = int(input())\n",
        "for i in range(1, n+1, 1):\n",
        "  for j in range(n-i):\n",
        "    print(' ', end='')\n",
        "  for j in range(i, 2*i, 1):\n",
        "    print(j, end='')\n",
        "  for j in range(2*i-2, i-1, -1):\n",
        "    print(j, end='')\n",
        "  print()"
      ],
      "metadata": {
        "colab": {
          "base_uri": "https://localhost:8080/"
        },
        "id": "Pq-6w0Q_gAA4",
        "outputId": "9026a670-59fa-422a-923d-196d756d5bbd"
      },
      "execution_count": null,
      "outputs": [
        {
          "output_type": "stream",
          "name": "stdout",
          "text": [
            "4\n",
            "   1\n",
            "  232\n",
            " 34543\n",
            "4567654\n"
          ]
        }
      ]
    },
    {
      "cell_type": "code",
      "source": [
        "i=1\n",
        "while i<3:\n",
        "    j=1\n",
        "    while j<5:\n",
        "        if j==3:\n",
        "            break\n",
        "        print(j,end=' ')\n",
        "        j = j + 1\n",
        "    i = i + 1"
      ],
      "metadata": {
        "colab": {
          "base_uri": "https://localhost:8080/"
        },
        "id": "MJdzIjbcp0Oj",
        "outputId": "7c803252-d52c-4e70-8bd9-23b16731d0a3"
      },
      "execution_count": null,
      "outputs": [
        {
          "output_type": "stream",
          "name": "stdout",
          "text": [
            "1 2 1 2 "
          ]
        }
      ]
    },
    {
      "cell_type": "code",
      "source": [
        "i=1\n",
        "while i<5:\n",
        "    if i == 6:\n",
        "        break\n",
        "    print(i,end=\" \")\n",
        "    i = i + 1\n",
        "else:\n",
        "    print('Else is also printed')"
      ],
      "metadata": {
        "colab": {
          "base_uri": "https://localhost:8080/"
        },
        "id": "mckDli8lr2Ba",
        "outputId": "a1b8526b-5bc0-41f3-ff5d-ac185a093366"
      },
      "execution_count": null,
      "outputs": [
        {
          "output_type": "stream",
          "name": "stdout",
          "text": [
            "1 2 3 4 Else is also printed\n"
          ]
        }
      ]
    },
    {
      "cell_type": "code",
      "source": [
        "i=1\n",
        "while i<5:\n",
        "    if i == 3:\n",
        "        break\n",
        "    print(i,end=' ')\n",
        "    i = i + 1\n",
        "else:\n",
        "    print('Else is also printed')"
      ],
      "metadata": {
        "colab": {
          "base_uri": "https://localhost:8080/"
        },
        "id": "L71TZ6BCtUUI",
        "outputId": "e405b7e6-c395-4403-f53e-d040358e3455"
      },
      "execution_count": null,
      "outputs": [
        {
          "output_type": "stream",
          "name": "stdout",
          "text": [
            "1 2 "
          ]
        }
      ]
    },
    {
      "cell_type": "code",
      "source": [
        "i=1\n",
        "while i<3:\n",
        "    j=0\n",
        "    while j<5:\n",
        "        j = j +1\n",
        "        if j==3:\n",
        "            continue\n",
        "        print(j,end=' ')\n",
        "    i = i +1"
      ],
      "metadata": {
        "colab": {
          "base_uri": "https://localhost:8080/"
        },
        "id": "xEF5Cz22u2rX",
        "outputId": "41d80049-ac1f-4950-8523-b847cc5a4325"
      },
      "execution_count": null,
      "outputs": [
        {
          "output_type": "stream",
          "name": "stdout",
          "text": [
            "1 2 4 5 1 2 4 5 "
          ]
        }
      ]
    }
  ]
}