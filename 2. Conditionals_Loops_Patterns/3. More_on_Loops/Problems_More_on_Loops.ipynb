{
  "nbformat": 4,
  "nbformat_minor": 0,
  "metadata": {
    "colab": {
      "name": "Problems_More_on_Loops",
      "provenance": [],
      "collapsed_sections": []
    },
    "kernelspec": {
      "name": "python3",
      "display_name": "Python 3"
    },
    "language_info": {
      "name": "python"
    }
  },
  "cells": [
    {
      "cell_type": "markdown",
      "source": [
        "**ASSIGNMENT PROBLEMS**"
      ],
      "metadata": {
        "id": "QAdh2GPO_Eqy"
      }
    },
    {
      "cell_type": "code",
      "execution_count": null,
      "metadata": {
        "colab": {
          "base_uri": "https://localhost:8080/"
        },
        "id": "calwyX6i--gJ",
        "outputId": "359875a5-c5ca-4bee-c95d-24432fab48eb"
      },
      "outputs": [
        {
          "output_type": "stream",
          "name": "stdout",
          "text": [
            "5\n",
            "11111\n",
            "0000\n",
            "111\n",
            "00\n",
            "1\n"
          ]
        }
      ],
      "source": [
        "'''\n",
        "Binary Pattern\n",
        "\n",
        "Print the following pattern for the given number of rows.\n",
        "Pattern for N = 4\n",
        "1111\n",
        "000\n",
        "11\n",
        "0\n",
        "\n",
        "Input format : N (Total no. of rows)\n",
        "Output format : Pattern in N lines\n",
        "\n",
        "Sample Input :\n",
        "5\n",
        "Sample Output :\n",
        "11111\n",
        "0000\n",
        "111\n",
        "00\n",
        "1\n",
        "'''\n",
        "\n",
        "n = int(input())\n",
        "for i in range(1, n+1):\n",
        "    if(i%2 != 0):\n",
        "        print('1'*(n-i+1))\n",
        "    else:\n",
        "        print('0'*(n-i+1))"
      ]
    },
    {
      "cell_type": "code",
      "source": [
        "'''\n",
        "Print Number Pyramid\n",
        "Print the following pattern for a given n.\n",
        "For eg. N = 6\n",
        "\n",
        "123456\n",
        "  23456\n",
        "    3456\n",
        "      456\n",
        "        56\n",
        "          6\n",
        "        56\n",
        "      456\n",
        "    3456\n",
        "  23456\n",
        "123456\n",
        "\n",
        "Sample Input 1 :\n",
        "4\n",
        "Sample Output 1 :\n",
        "1234\n",
        "  234\n",
        "    34\n",
        "      4\n",
        "    34\n",
        "  234\n",
        "1234\n",
        "'''\n",
        "\n",
        "n = int(input())\n",
        "\n",
        "for i in range(1, n+1):\n",
        "    for j in range(i-1):\n",
        "        print(' ', end='')\n",
        "    for j in range(i,n+1):\n",
        "        print(j, end='')\n",
        "    print()\n",
        "    \n",
        "for i in range(1, n):\n",
        "    for j in range(1, n-i):\n",
        "        print(' ', end='')\n",
        "    for j in range(n-i, n+1):\n",
        "        print(j, end='')\n",
        "    print()"
      ],
      "metadata": {
        "colab": {
          "base_uri": "https://localhost:8080/"
        },
        "id": "nVgctGXH_VOs",
        "outputId": "0fa07434-5f37-44ea-9a9a-7208a1298745"
      },
      "execution_count": null,
      "outputs": [
        {
          "output_type": "stream",
          "name": "stdout",
          "text": [
            "6\n",
            "123456\n",
            " 23456\n",
            "  3456\n",
            "   456\n",
            "    56\n",
            "     6\n",
            "    56\n",
            "   456\n",
            "  3456\n",
            " 23456\n",
            "123456\n"
          ]
        }
      ]
    },
    {
      "cell_type": "code",
      "source": [
        "'''\n",
        "Diamond of Stars\n",
        "Print the following pattern for the given number of rows.\n",
        "Note: N is always odd.\n",
        "\n",
        "Pattern for N = 5\n",
        "\n",
        "Input format :\n",
        "N (Total no. of rows and can only be odd)\n",
        "Output format :\n",
        "Pattern in N lines\n",
        "\n",
        "Constraints :\n",
        "1 <= N <= 49\n",
        "\n",
        "Sample Input 1:\n",
        "5\n",
        "Sample Output 1:\n",
        "  *\n",
        " ***\n",
        "*****\n",
        " ***\n",
        "  *\n",
        "\n",
        "Sample Input 2:\n",
        "3\n",
        "Sample Output 2:\n",
        "  *\n",
        " ***\n",
        "  *\n",
        "'''\n",
        "\n",
        "n = int(input())\n",
        "\n",
        "for i in range(1, (n+1)//2 + 1, 1):\n",
        "    for j in range(0, ((n//2)+1)-i, 1):\n",
        "        print(' ', end='')\n",
        "    for j in range(1, 2*i, 1):\n",
        "        print('*', end='')\n",
        "    print()\n",
        "\n",
        "for i in range((n//2), 0, -1):\n",
        "    for j in range((n//2)-i+1):\n",
        "        print(' ', end='')\n",
        "    for j in range(2*i-1):\n",
        "        print('*', end='')\n",
        "    print()"
      ],
      "metadata": {
        "colab": {
          "base_uri": "https://localhost:8080/"
        },
        "id": "wdqBP-DC_dv6",
        "outputId": "db6bb934-eda6-43a0-9aa0-cf49a818df08"
      },
      "execution_count": null,
      "outputs": [
        {
          "output_type": "stream",
          "name": "stdout",
          "text": [
            "5\n",
            "  *\n",
            " ***\n",
            "*****\n",
            " ***\n",
            "  *\n"
          ]
        }
      ]
    },
    {
      "cell_type": "code",
      "source": [
        "'''\n",
        "Rectangular numbers\n",
        "Print the following pattern for the given number of rows.\n",
        "Pattern for N = 4\n",
        "4444444\n",
        "4333334\n",
        "4322234\n",
        "4321234\n",
        "4322234\n",
        "4333334  \n",
        "4444444\n",
        "\n",
        "Input format : N (Total no. of rows)\n",
        "Output format : Pattern in N lines\n",
        "\n",
        "Sample Input :\n",
        "3\n",
        "Sample Output :\n",
        "33333\n",
        "32223\n",
        "32123\n",
        "32223\n",
        "33333\n",
        "'''\n",
        "\n",
        "n = int(input())\n",
        "s = 2 * n - 1\n",
        " \n",
        "# Upper Half\n",
        "for i in range(0, int(s/2) + 1):\n",
        "    m = n\n",
        "    \n",
        "    # Decreasing part\n",
        "    for j in range(0, i):\n",
        "        print(m ,end= \"\" )\n",
        "        m-=1\n",
        "        \n",
        "    # Constant Part\n",
        "    for k in range(0, s - 2 * i):\n",
        "        print(n-i ,end= \"\" )\n",
        "         \n",
        "    # Increasing part.\n",
        "    m = n - i + 1\n",
        "    for l in range(0, i):\n",
        "        print(m ,end= \"\" )\n",
        "        m+=1\n",
        "         \n",
        "    print(\"\")\n",
        "     \n",
        "# Lower Half\n",
        "for i in range(int(s/2)-1,-1,-1):\n",
        " \n",
        "    # Decreasing Part\n",
        "    m = n\n",
        "    for j in range(0, i):\n",
        "        print(m ,end= \"\" )\n",
        "        m-=1       \n",
        " \n",
        "    # Constant Part.\n",
        "    for k in range(0, s - 2 * i):\n",
        "        print(n-i ,end= \"\" )\n",
        "         \n",
        "    # Decreasing Part\n",
        "    m = n - i + 1\n",
        "    for l in range(0, i):\n",
        "        print(m ,end= \"\" )\n",
        "        m+=1\n",
        "         \n",
        "    print(\"\")"
      ],
      "metadata": {
        "colab": {
          "base_uri": "https://localhost:8080/"
        },
        "id": "zkWfzhwc_jKa",
        "outputId": "c263022b-9315-4cca-90c2-128061d92b09"
      },
      "execution_count": null,
      "outputs": [
        {
          "output_type": "stream",
          "name": "stdout",
          "text": [
            "4\n",
            "4444444\n",
            "4333334\n",
            "4322234\n",
            "4321234\n",
            "4322234\n",
            "4333334\n",
            "4444444\n"
          ]
        }
      ]
    },
    {
      "cell_type": "code",
      "source": [
        "'''\n",
        "Print the pattern\n",
        "Print the following pattern for the given number of rows.\n",
        "\n",
        "Pattern for N = 5\n",
        " 1    2   3    4   5\n",
        " 11   12  13   14  15\n",
        " 21   22  23   24  25\n",
        " 16   17  18   19  20\n",
        " 6    7    8   9   10\n",
        "\n",
        "Input format : N (Total no. of rows)\n",
        "Output format : Pattern in N lines\n",
        "\n",
        "Sample Input :\n",
        "4\n",
        "Sample Output :\n",
        " 1  2  3  4\n",
        " 9 10 11 12\n",
        "13 14 15 16\n",
        " 5  6  7  8\n",
        " '''\n",
        "\n",
        "import math\n",
        "n = int(input())\n",
        "\n",
        "for i in range(math.ceil(n/2)):\n",
        "   for j in range(1,n+1):\n",
        "       print(n*2*i + j ,end = \" \");\n",
        "   print()\n",
        "        \n",
        "for i in range(n//2,0,-1):\n",
        "   for j in range(1,n+1):\n",
        "       print(n*(2*i-1) + j , end = \" \")\n",
        "   print()"
      ],
      "metadata": {
        "colab": {
          "base_uri": "https://localhost:8080/"
        },
        "id": "75cErLbh_mdq",
        "outputId": "d617fdd3-869c-42fe-c445-ad748bbe79c1"
      },
      "execution_count": null,
      "outputs": [
        {
          "output_type": "stream",
          "name": "stdout",
          "text": [
            "4\n",
            "1 2 3 4 \n",
            "9 10 11 12 \n",
            "13 14 15 16 \n",
            "5 6 7 8 \n"
          ]
        }
      ]
    }
  ]
}