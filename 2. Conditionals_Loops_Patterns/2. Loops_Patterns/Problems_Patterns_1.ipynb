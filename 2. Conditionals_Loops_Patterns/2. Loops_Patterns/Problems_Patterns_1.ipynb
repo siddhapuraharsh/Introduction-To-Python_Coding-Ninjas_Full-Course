{
  "nbformat": 4,
  "nbformat_minor": 0,
  "metadata": {
    "colab": {
      "name": "Problems_Patterns-1",
      "provenance": [],
      "collapsed_sections": []
    },
    "kernelspec": {
      "name": "python3",
      "display_name": "Python 3"
    },
    "language_info": {
      "name": "python"
    }
  },
  "cells": [
    {
      "cell_type": "markdown",
      "source": [
        "**CONTENT PROBLEMS**"
      ],
      "metadata": {
        "id": "mf4l2fq1CPaB"
      }
    },
    {
      "cell_type": "code",
      "execution_count": null,
      "metadata": {
        "colab": {
          "base_uri": "https://localhost:8080/"
        },
        "id": "So--SSsfCJqY",
        "outputId": "df72962f-57d1-4d5a-9ab4-f670a15f1e16"
      },
      "outputs": [
        {
          "output_type": "stream",
          "name": "stdout",
          "text": [
            "6\n",
            "666666\n",
            "666666\n",
            "666666\n",
            "666666\n",
            "666666\n",
            "666666\n"
          ]
        }
      ],
      "source": [
        "'''\n",
        "Code : Square Pattern\n",
        "\n",
        "Print the following pattern for the given N number of rows.\n",
        "\n",
        "Pattern for N = 4\n",
        "4444\n",
        "4444\n",
        "4444\n",
        "4444\n",
        "\n",
        "Input format :\n",
        "Integer N (Total no. of rows)\n",
        "Output format :\n",
        "Pattern in N lines\n",
        "\n",
        "Constraints\n",
        "0 <= N <= 50\n",
        "\n",
        "Sample Input 1:\n",
        "7\n",
        "Sample Output 1:\n",
        "7777777\n",
        "7777777\n",
        "7777777\n",
        "7777777\n",
        "7777777\n",
        "7777777\n",
        "7777777\n",
        "\n",
        "Sample Input 2:\n",
        "6\n",
        "Sample Output 2:\n",
        "666666\n",
        "666666\n",
        "666666\n",
        "666666\n",
        "666666\n",
        "666666\n",
        "'''\n",
        "\n",
        "n = int(input())\n",
        "\n",
        "i = 1\n",
        "while(i<=n):\n",
        "    j = 1\n",
        "    while(j<=n):\n",
        "        print(n, end='')\n",
        "        j += 1\n",
        "    print()\n",
        "    i += 1"
      ]
    },
    {
      "cell_type": "code",
      "source": [
        "'''\n",
        "Code : Triangular Star Pattern\n",
        "\n",
        "Print the following pattern for the given N number of rows.\n",
        "\n",
        "Pattern for N = 4\n",
        "*\n",
        "**\n",
        "***\n",
        "****\n",
        "\n",
        "Note : There are no spaces between the stars (*).\n",
        "\n",
        "Input format :\n",
        "Integer N (Total no. of rows)\n",
        "Output format :\n",
        "Pattern in N lines\n",
        "\n",
        "Constraints\n",
        "0 <= N <= 50\n",
        "\n",
        "Sample Input 1:\n",
        "5\n",
        "Sample Output 1:\n",
        "*\n",
        "**\n",
        "***\n",
        "****\n",
        "*****\n",
        "\n",
        "Sample Input 2:\n",
        "6\n",
        "Sample Output 2:\n",
        "*\n",
        "**\n",
        "***\n",
        "****\n",
        "*****\n",
        "******\n",
        "'''\n",
        "\n",
        "n = int(input())\n",
        "\n",
        "i = 1\n",
        "while(i<=n):\n",
        "    j = 1\n",
        "    while(j<=i):\n",
        "        print('*', end='')\n",
        "        j += 1\n",
        "    print()\n",
        "    i += 1"
      ],
      "metadata": {
        "colab": {
          "base_uri": "https://localhost:8080/"
        },
        "id": "6YvcfsFKCkoW",
        "outputId": "be67cc20-2adc-45fe-cbb1-58c658ecf329"
      },
      "execution_count": null,
      "outputs": [
        {
          "output_type": "stream",
          "name": "stdout",
          "text": [
            "5\n",
            "*\n",
            "**\n",
            "***\n",
            "****\n",
            "*****\n"
          ]
        }
      ]
    },
    {
      "cell_type": "code",
      "source": [
        "'''\n",
        "Code : Triangle Number Pattern\n",
        "\n",
        "Print the following pattern for the given N number of rows.\n",
        "\n",
        "Pattern for N = 4\n",
        "1\n",
        "22\n",
        "333\n",
        "4444\n",
        "\n",
        "Input format :\n",
        "Integer N (Total no. of rows)\n",
        "Output format :\n",
        "Pattern in N lines\n",
        "\n",
        "Constraints\n",
        "0 <= N <= 50\n",
        "\n",
        "Sample Input 1:\n",
        "5\n",
        "Sample Output 1:\n",
        "1\n",
        "22\n",
        "333\n",
        "4444\n",
        "55555\n",
        "\n",
        "Sample Input 2:\n",
        "6\n",
        "Sample Output 2:\n",
        "1\n",
        "22\n",
        "333\n",
        "4444\n",
        "55555\n",
        "666666\n",
        "'''\n",
        "\n",
        "n = int(input())\n",
        "\n",
        "i = 1\n",
        "while(i<=n):\n",
        "    j = 1\n",
        "    while(j<=i):\n",
        "        print(i, end='')\n",
        "        j += 1\n",
        "    print()\n",
        "    i += 1"
      ],
      "metadata": {
        "colab": {
          "base_uri": "https://localhost:8080/"
        },
        "id": "WZJ1nm9ICua4",
        "outputId": "7eeabcae-d1dc-4def-94b4-d4df1c5f912c"
      },
      "execution_count": null,
      "outputs": [
        {
          "output_type": "stream",
          "name": "stdout",
          "text": [
            "6\n",
            "1\n",
            "22\n",
            "333\n",
            "4444\n",
            "55555\n",
            "666666\n"
          ]
        }
      ]
    },
    {
      "cell_type": "code",
      "source": [
        "'''\n",
        "Code : Reverse Number Pattern\n",
        "\n",
        "Print the following pattern for the given N number of rows.\n",
        "\n",
        "Pattern for N = 4\n",
        "1\n",
        "21\n",
        "321\n",
        "4321\n",
        "\n",
        "Input format :\n",
        "Integer N (Total no. of rows)\n",
        "Output format :\n",
        "Pattern in N lines\n",
        "\n",
        "Constraints\n",
        "0 <= N <= 50\n",
        "\n",
        "Sample Input 1:\n",
        "5\n",
        "Sample Output 1:\n",
        "1\n",
        "21\n",
        "321\n",
        "4321\n",
        "54321\n",
        "\n",
        "Sample Input 2:\n",
        "6\n",
        "Sample Output 2:\n",
        "1\n",
        "21\n",
        "321\n",
        "4321\n",
        "54321\n",
        "654321\n",
        "'''\n",
        "\n",
        "n = int(input())\n",
        "\n",
        "i = 1\n",
        "while(i<=n):\n",
        "    j = i\n",
        "    while(j>=1):\n",
        "        print(j, end='')\n",
        "        j -= 1\n",
        "    print()\n",
        "    i += 1"
      ],
      "metadata": {
        "colab": {
          "base_uri": "https://localhost:8080/"
        },
        "id": "3HcRAcB_C5pD",
        "outputId": "c26799ec-a831-4da4-9b24-79295516357f"
      },
      "execution_count": null,
      "outputs": [
        {
          "output_type": "stream",
          "name": "stdout",
          "text": [
            "6\n",
            "1\n",
            "21\n",
            "321\n",
            "4321\n",
            "54321\n",
            "654321\n"
          ]
        }
      ]
    },
    {
      "cell_type": "code",
      "source": [
        "'''\n",
        "Code : Character Pattern\n",
        "\n",
        "Print the following pattern for the given N number of rows.\n",
        "\n",
        "Pattern for N = 4\n",
        "A\n",
        "BC\n",
        "CDE\n",
        "DEFG\n",
        "\n",
        "Input format :\n",
        "Integer N (Total no. of rows)\n",
        "Output format :\n",
        "Pattern in N lines\n",
        "\n",
        "Constraints\n",
        "0 <= N <= 13\n",
        "\n",
        "Sample Input 1:\n",
        "5\n",
        "Sample Output 1:\n",
        "A\n",
        "BC\n",
        "CDE\n",
        "DEFG\n",
        "EFGHI\n",
        "\n",
        "Sample Input 2:\n",
        "6\n",
        "Sample Output 2:\n",
        "A\n",
        "BC\n",
        "CDE\n",
        "DEFG\n",
        "EFGHI\n",
        "FGHIJK\n",
        "'''\n",
        "\n",
        "n = int(input())\n",
        "\n",
        "i = 1\n",
        "while(i<=n):\n",
        "    j = 1\n",
        "    start_char = chr(ord('A') + i - 1)\n",
        "    while(j<=i):\n",
        "        charP = chr(ord(start_char) + j - 1)\n",
        "        print(charP, end='')\n",
        "        j += 1\n",
        "    print()\n",
        "    i += 1"
      ],
      "metadata": {
        "colab": {
          "base_uri": "https://localhost:8080/"
        },
        "id": "PT7nOJHzDDy6",
        "outputId": "df08ce20-dccc-41ca-98f3-39b78caa7ea8"
      },
      "execution_count": null,
      "outputs": [
        {
          "output_type": "stream",
          "name": "stdout",
          "text": [
            "5\n",
            "A\n",
            "BC\n",
            "CDE\n",
            "DEFG\n",
            "EFGHI\n"
          ]
        }
      ]
    },
    {
      "cell_type": "code",
      "source": [
        "'''\n",
        "Code : Interesting Alphabets\n",
        "\n",
        "Print the following pattern for the given number of rows.\n",
        "\n",
        "Pattern for N = 5\n",
        "E\n",
        "DE\n",
        "CDE\n",
        "BCDE\n",
        "ABCDE\n",
        "\n",
        "Input format :\n",
        "N (Total no. of rows)\n",
        "Output format :\n",
        "Pattern in N lines\n",
        "\n",
        "Constraints\n",
        "0 <= N <= 26\n",
        "\n",
        "Sample Input 1:\n",
        "8\n",
        "Sample Output 1:\n",
        "H\n",
        "GH\n",
        "FGH\n",
        "EFGH\n",
        "DEFGH\n",
        "CDEFGH\n",
        "BCDEFGH\n",
        "ABCDEFGH\n",
        "\n",
        "Sample Input 2:\n",
        "7\n",
        "Sample Output 2:\n",
        "G\n",
        "FG\n",
        "EFG\n",
        "DEFG\n",
        "CDEFG\n",
        "BCDEFG\n",
        "ABCDEFG\n",
        "'''\n",
        "\n",
        "n = int(input())\n",
        "\n",
        "temp = n\n",
        "i = 1\n",
        "while(i<=n):\n",
        "    j = 1\n",
        "    start_char = chr(ord('A') + temp - 1)\n",
        "    while(j<=i):\n",
        "        charP = chr(ord(start_char) + j - 1)\n",
        "        print(charP, end='')\n",
        "        j += 1\n",
        "    temp -= 1\n",
        "    print()\n",
        "    i += 1"
      ],
      "metadata": {
        "colab": {
          "base_uri": "https://localhost:8080/"
        },
        "id": "Kla9dOrcDO6-",
        "outputId": "eef93383-f557-4d1d-9107-cbeb6660fb39"
      },
      "execution_count": null,
      "outputs": [
        {
          "output_type": "stream",
          "name": "stdout",
          "text": [
            "7\n",
            "G\n",
            "FG\n",
            "EFG\n",
            "DEFG\n",
            "CDEFG\n",
            "BCDEFG\n",
            "ABCDEFG\n"
          ]
        }
      ]
    },
    {
      "cell_type": "markdown",
      "source": [
        "**ASSIGNMENT PROBLEMS**"
      ],
      "metadata": {
        "id": "Tbr-Rn0uDbmF"
      }
    },
    {
      "cell_type": "code",
      "source": [
        "'''\n",
        "Number Pattern 1\n",
        "\n",
        "Print the following pattern for the given N number of rows.\n",
        "\n",
        "Pattern for N = 4\n",
        "1\n",
        "11\n",
        "111\n",
        "1111\n",
        "\n",
        "Input format :\n",
        "Integer N (Total no. of rows)\n",
        "Output format :\n",
        "Pattern in N lines\n",
        "\n",
        "Sample Input :\n",
        "5\n",
        "Sample Output :\n",
        "1\n",
        "11\n",
        "111\n",
        "1111\n",
        "11111\n",
        "'''\n",
        "\n",
        "n = int(input())\n",
        "\n",
        "i = 1\n",
        "while(i<=n):\n",
        "    j = 1\n",
        "    while(j<=i):\n",
        "        print('1', end='')\n",
        "        j += 1\n",
        "    print()\n",
        "    i += 1"
      ],
      "metadata": {
        "colab": {
          "base_uri": "https://localhost:8080/"
        },
        "id": "SmFOtyodDfBc",
        "outputId": "b78a466c-9607-4afe-ae17-3b1b7a391311"
      },
      "execution_count": null,
      "outputs": [
        {
          "output_type": "stream",
          "name": "stdout",
          "text": [
            "5\n",
            "1\n",
            "11\n",
            "111\n",
            "1111\n",
            "11111\n"
          ]
        }
      ]
    },
    {
      "cell_type": "code",
      "source": [
        "'''\n",
        "Number Pattern 2\n",
        "\n",
        "Print the following pattern for the given N number of rows.\n",
        "\n",
        "Pattern for N = 4\n",
        "1\n",
        "11\n",
        "202\n",
        "3003\n",
        "\n",
        "Input format :\n",
        "Integer N (Total no. of rows)\n",
        "\n",
        "Contraints:\n",
        "1 <= n <= 50\n",
        "\n",
        "Output format :\n",
        "Pattern in N lines\n",
        "\n",
        "Sample Input :\n",
        "5\n",
        "Sample Output :\n",
        "1\n",
        "11\n",
        "202\n",
        "3003\n",
        "40004\n",
        "'''\n",
        "\n",
        "# Solution-1\n",
        "n = int(input())\n",
        "i = 1\n",
        "while(i<=n): \n",
        "    j = 1\n",
        "    while(j<=i):\n",
        "        if(i==1):\n",
        "            print(\"1\", end='')\n",
        "        elif(j==1 or j==i):\n",
        "            print(i-1, end='')\n",
        "        else:\n",
        "            print(0, end='')\n",
        "        j += 1\n",
        "    print()\n",
        "    i += 1\n",
        "\n",
        "# Solution-2\n",
        "n = int(input())\n",
        "print('1')\n",
        "i = 1\n",
        "while(i<n):\n",
        "    print(str(i) + '0'*(i-1) + str(i))\n",
        "    i += 1"
      ],
      "metadata": {
        "id": "1we_BP4aDqZF"
      },
      "execution_count": null,
      "outputs": []
    },
    {
      "cell_type": "code",
      "source": [
        "'''\n",
        "Number Pattern 3\n",
        "\n",
        "Print the following pattern for the given N number of rows.\n",
        "\n",
        "Pattern for N = 4\n",
        "1\n",
        "11\n",
        "121\n",
        "1221\n",
        "\n",
        "Input format :\n",
        "Integer N (Total no. of rows)\n",
        "Output format :\n",
        "Pattern in N lines\n",
        "\n",
        "Sample Input :\n",
        "5\n",
        "Sample Output :\n",
        "1\n",
        "11\n",
        "121\n",
        "1221\n",
        "12221\n",
        "'''\n",
        "\n",
        "n = int(input())\n",
        "i = 1\n",
        "while(i<=n): \n",
        "    j = 1\n",
        "    while(j<=i):\n",
        "        if(i==1):\n",
        "            print(\"1\", end='')\n",
        "        elif(j==1 or j==i):\n",
        "            print(1, end='')\n",
        "        else:\n",
        "            print(2, end='')\n",
        "        j += 1\n",
        "    print()\n",
        "    i += 1"
      ],
      "metadata": {
        "colab": {
          "base_uri": "https://localhost:8080/"
        },
        "id": "lTgE_dKSEWgb",
        "outputId": "9bcf855e-d16d-4c7d-8db1-ee6a0582d267"
      },
      "execution_count": null,
      "outputs": [
        {
          "output_type": "stream",
          "name": "stdout",
          "text": [
            "5\n",
            "1\n",
            "11\n",
            "121\n",
            "1221\n",
            "12221\n"
          ]
        }
      ]
    },
    {
      "cell_type": "code",
      "source": [
        "'''\n",
        "Number Pattern\n",
        "\n",
        "Print the following pattern for the given N number of rows.\n",
        "\n",
        "Pattern for N = 4\n",
        "1234\n",
        "123\n",
        "12\n",
        "1\n",
        "\n",
        "Input format :\n",
        "Integer N (Total no. of rows)\n",
        "Output format :\n",
        "Pattern in N lines\n",
        "\n",
        "Sample Input :\n",
        "5\n",
        "Sample Output :\n",
        "12345\n",
        "1234\n",
        "123\n",
        "12\n",
        "1\n",
        "'''\n",
        "\n",
        "n = int(input())\n",
        "i = n\n",
        "while(i>=1):\n",
        "    j = 1\n",
        "    while(j<=i):\n",
        "        print(j, end='')\n",
        "        j += 1\n",
        "    print()\n",
        "    i -= 1"
      ],
      "metadata": {
        "colab": {
          "base_uri": "https://localhost:8080/"
        },
        "id": "H3yXHyyEEgIA",
        "outputId": "ee0258c1-33fa-4cef-b020-f4b5ad25e9ac"
      },
      "execution_count": null,
      "outputs": [
        {
          "output_type": "stream",
          "name": "stdout",
          "text": [
            "5\n",
            "12345\n",
            "1234\n",
            "123\n",
            "12\n",
            "1\n"
          ]
        }
      ]
    },
    {
      "cell_type": "code",
      "source": [
        "'''\n",
        "Alpha Pattern\n",
        "\n",
        "Print the following pattern for the given N number of rows.\n",
        "\n",
        "Pattern for N = 3\n",
        " A\n",
        " BB\n",
        " CCC\n",
        "\n",
        "Input format :\n",
        "Integer N (Total no. of rows)\n",
        "Output format :\n",
        "Pattern in N lines\n",
        "\n",
        "Constraints\n",
        "0 <= N <= 26\n",
        "\n",
        "Sample Input 1:\n",
        "7\n",
        "Sample Output 1:\n",
        "A\n",
        "BB\n",
        "CCC\n",
        "DDDD\n",
        "EEEEE\n",
        "FFFFFF\n",
        "GGGGGGG\n",
        "\n",
        "Sample Input 2:\n",
        "6\n",
        "Sample Output 2:\n",
        "A\n",
        "BB\n",
        "CCC\n",
        "DDDD\n",
        "EEEEE\n",
        "FFFFFF\n",
        "'''\n",
        "\n",
        "n = int(input())\n",
        "i = 1\n",
        "while(i<=n):\n",
        "    j = 1\n",
        "    charP = chr(ord('A') + i - 1)\n",
        "    while(j<=i):\n",
        "        print(charP, end='')\n",
        "        j += 1\n",
        "    print()\n",
        "    i += 1"
      ],
      "metadata": {
        "colab": {
          "base_uri": "https://localhost:8080/"
        },
        "id": "t4rgl7tlEnXL",
        "outputId": "3fad1ea9-95f3-462b-fe6d-a8cec4ba2600"
      },
      "execution_count": null,
      "outputs": [
        {
          "output_type": "stream",
          "name": "stdout",
          "text": [
            "6\n",
            "A\n",
            "BB\n",
            "CCC\n",
            "DDDD\n",
            "EEEEE\n",
            "FFFFFF\n"
          ]
        }
      ]
    }
  ]
}