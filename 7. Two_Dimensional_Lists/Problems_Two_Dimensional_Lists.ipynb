{
  "nbformat": 4,
  "nbformat_minor": 0,
  "metadata": {
    "colab": {
      "name": "Problems_Two-Dimensional-Lists",
      "provenance": [],
      "collapsed_sections": []
    },
    "kernelspec": {
      "name": "python3",
      "display_name": "Python 3"
    },
    "language_info": {
      "name": "python"
    }
  },
  "cells": [
    {
      "cell_type": "markdown",
      "source": [
        "**CONTENT PROBLEMS**"
      ],
      "metadata": {
        "id": "ob9PAE4GIz6j"
      }
    },
    {
      "cell_type": "code",
      "execution_count": 24,
      "metadata": {
        "id": "iFEK2qaj3v8N",
        "colab": {
          "base_uri": "https://localhost:8080/"
        },
        "outputId": "1cc662ce-33a9-45bc-f0b3-1db73b5d888d"
      },
      "outputs": [
        {
          "output_type": "stream",
          "name": "stdout",
          "text": [
            "21 3\n"
          ]
        }
      ],
      "source": [
        "# Largest Column Sum \n",
        "def largeColSum(li):\n",
        "    row = len(li)\n",
        "    col = len(li[0])\n",
        "    maxSum = -1\n",
        "    maxColIndex = -1\n",
        "\n",
        "    for j in range(col):        #going through each column\n",
        "        sum=0\n",
        "        for i in range(row):    #gowing throw each row\n",
        "            sum += li[i][j]\n",
        "\n",
        "        if sum>maxSum:\n",
        "            maxColIndex = j\n",
        "            maxSum = sum\n",
        "\n",
        "    return maxSum,maxColIndex\n",
        "        \n",
        "li = [[1,2,3,4],[8,7,6,5],[9,10,11,12]]\n",
        "largeSum,largeColIndex = largeColSum(li)\n",
        "print(largeSum,largeColIndex)\n"
      ]
    },
    {
      "cell_type": "code",
      "source": [
        "'''\n",
        "Row Wise Sum\n",
        "\n",
        "For a given two-dimensional integer array/list of size (N x M), find and print the sum of each of the row elements in a single line, separated by a single space.\n",
        "\n",
        "Input Format :\n",
        "The first line contains an Integer 't' which denotes the number of test cases or queries to be run. Then the test cases follow.\n",
        "\n",
        "First line of each test case or query contains two integer values, 'N' and 'M', separated by a single space. They represent the 'rows' and 'columns' respectively, for the two-dimensional array/list.\n",
        "\n",
        "Second line onwards, the next 'N' lines or rows represent the ith row values.\n",
        "\n",
        "Each of the ith row constitutes 'M' column values separated by a single space.\n",
        "\n",
        "Output Format :\n",
        "For each test case, print the sum of every ith row elements in a single line separated by a single space.\n",
        "\n",
        "Output for every test case will be printed in a seperate line.\n",
        "\n",
        "Constraints :\n",
        "1 <= t <= 10^2\n",
        "0 <= N <= 10^3\n",
        "0 <= M <= 10^3\n",
        "Time Limit: 1sec\n",
        "\n",
        "Sample Input 1:\n",
        "1\n",
        "4 2 \n",
        "1 2 \n",
        "3 4 \n",
        "5 6 \n",
        "7 8\n",
        "Sample Output 1:\n",
        "3 7 11 15 \n",
        "\n",
        "Sample Input 2:\n",
        "2\n",
        "2 5 \n",
        "4 5 3 2 6 \n",
        "7 5 3 8 9\n",
        "4 4\n",
        "1 2 3 4\n",
        "9 8 7 6\n",
        "3 4 5 6\n",
        "-1 1 -10 5\n",
        "Sample Output 2:\n",
        "20 32 \n",
        "10 30 18 -5 \n",
        "'''\n",
        "\n",
        "from sys import stdin\n",
        "\n",
        "def rowWiseSum(mat, nRows, mCols):\n",
        "    for listElement in mat:\n",
        "        print(sum(listElement), end=' ')\n",
        "\n",
        "#Taking Input Using Fast I/O\n",
        "def take2DInput() :\n",
        "    li = stdin.readline().rstrip().split(\" \")\n",
        "    nRows = int(li[0])\n",
        "    mCols = int(li[1])\n",
        "    if nRows == 0 :\n",
        "        return list(), 0, 0\n",
        "    mat = [list(map(int, input().strip().split(\" \"))) for row in range(nRows)]\n",
        "    return mat, nRows, mCols\n",
        "\n",
        "#main\n",
        "t = int(stdin.readline().rstrip())\n",
        "while t > 0 :\n",
        "    mat, nRows, mCols = take2DInput()\n",
        "    rowWiseSum(mat, nRows, mCols)\n",
        "    print()\n",
        "    t -= 1"
      ],
      "metadata": {
        "id": "xaZYoFp0aCmT"
      },
      "execution_count": null,
      "outputs": []
    },
    {
      "cell_type": "code",
      "source": [
        "'''\n",
        "Largest Row or Column\n",
        "\n",
        "For a given two-dimensional integer array/list of size (N x M), you need to find out which row or column has the largest sum(sum of all the elements in a row/column) amongst all the rows and columns.\n",
        "\n",
        "Note :\n",
        "If there are more than one rows/columns with maximum sum, consider the row/column that comes first. And if ith row and jth column has the same largest sum, consider the ith row as answer.\n",
        "Input Format :\n",
        "The first line contains an Integer 't' which denotes the number of test cases or queries to be run. Then the test cases follow.\n",
        "\n",
        "First line of each test case or query contains two integer values, 'N' and 'M', separated by a single space. They represent the 'rows' and 'columns' respectively, for the two-dimensional array/list.\n",
        "\n",
        "Second line onwards, the next 'N' lines or rows represent the ith row values.\n",
        "\n",
        "Each of the ith row constitutes 'M' column values separated by a single space.\n",
        "\n",
        "Output Format :\n",
        "For each test case, If row sum is maximum, then print: \"row\" <row_index> <row_sum>\n",
        "OR\n",
        "If column sum is maximum, then print: \"column\" <col_index> <col_sum>\n",
        "It will be printed in a single line separated by a single space between each piece of information.\n",
        "\n",
        "Output for every test case will be printed in a seperate line.\n",
        "\n",
        "Consider :\n",
        "If there doesn't exist a sum at all then print \"row 0 -2147483648\", where -2147483648 or -2^31 is the smallest value for the range of Integer.\n",
        "\n",
        "Constraints :\n",
        "1 <= t <= 10^2\n",
        "0 <= N <= 10^3\n",
        "0 <= M <= 10^3\n",
        "Time Limit: 1sec\n",
        "\n",
        "Sample Input 1 :\n",
        "1\n",
        "2 2 \n",
        "1 1 \n",
        "1 1\n",
        "Sample Output 1 :\n",
        "row 0 2\n",
        "\n",
        "Sample Input 2 :\n",
        "2\n",
        "3 3\n",
        "3 6 9 \n",
        "1 4 7 \n",
        "2 8 9\n",
        "4 2\n",
        "1 2\n",
        "90 100\n",
        "3 40\n",
        "-10 200\n",
        "Sample Output 2 :\n",
        "column 2 25\n",
        "column 1 342\n",
        "'''\n",
        "\n",
        "'''\n",
        "    In order to print two or more integers in a line separated by a single \n",
        "    space then you may consider printing it with the statement, \n",
        "\n",
        "    print(str(num1) + \" \" + str(num2))\n",
        "    Take Minimum value as MIN_VALUE = -2147483648\n",
        "\n",
        "'''\n",
        "\n",
        "from sys import stdin\n",
        "\n",
        "def findLargest(arr, nRows, mCols):\n",
        "    rowIndex = 0\n",
        "    colIndex = 0\n",
        "    rowSum = -2147483648\n",
        "    colSum = -2147483648\n",
        "    \n",
        "    \n",
        "    for i in range(nRows):\n",
        "        tempSum = sum(arr[i])\n",
        "        if(tempSum>rowSum):\n",
        "            rowSum = tempSum\n",
        "            rowIndex = i\n",
        "    \n",
        "    for j in range(mCols):\n",
        "        tempSum = 0\n",
        "        for i in range(nRows):\n",
        "            tempSum += arr[i][j]\n",
        "        if(tempSum>colSum):\n",
        "            colSum = tempSum\n",
        "            colIndex = j\n",
        "            \n",
        "    if(rowSum>=colSum):\n",
        "        print(\"row \" + str(rowIndex) + \" \" + str(rowSum))\n",
        "    else:\n",
        "        print(\"column \" + str(colIndex) + \" \" + str(colSum))              \n",
        "\n",
        "#Taking Input Using Fast I/O\n",
        "def take2DInput() :\n",
        "    li = stdin.readline().rstrip().split(\" \")\n",
        "    nRows = int(li[0])\n",
        "    mCols = int(li[1])\n",
        "    if nRows == 0 :\n",
        "        return list(), 0, 0\n",
        "    mat = [list(map(int, input().strip().split(\" \"))) for row in range(nRows)]\n",
        "    return mat, nRows, mCols\n",
        "\n",
        "#main\n",
        "t = int(stdin.readline().rstrip())\n",
        "while t > 0 :\n",
        "    mat, nRows, mCols = take2DInput()\n",
        "    findLargest(mat, nRows, mCols)\n",
        "    t -= 1"
      ],
      "metadata": {
        "id": "DQ0pJkpicnej"
      },
      "execution_count": null,
      "outputs": []
    },
    {
      "cell_type": "code",
      "source": [
        "'''\n",
        "Wave Print\n",
        "\n",
        "For a given two-dimensional integer array/list of size (N x M), print the array/list in a sine wave order, i.e, print the first column top to bottom, next column bottom to top and so on.\n",
        "Input format :\n",
        "The first line contains an Integer 't' which denotes the number of test cases or queries to be run. Then the test cases follow.\n",
        "\n",
        "First line of each test case or query contains two integer values, 'N' and 'M', separated by a single space. They represent the 'rows' and 'columns' respectively, for the two-dimensional array/list.\n",
        "\n",
        "Second line onwards, the next 'N' lines or rows represent the ith row values.\n",
        "\n",
        "Each of the ith row constitutes 'M' column values separated by a single space.\n",
        "\n",
        "Output format :\n",
        "For each test case, print the elements of the two-dimensional array/list in the sine wave order in a single line, separated by a single space.\n",
        "\n",
        "Output for every test case will be printed in a seperate line.\n",
        "\n",
        "Constraints :\n",
        "1 <= t <= 10^2\n",
        "0 <= N <= 10^3\n",
        "0 <= M <= 10^3\n",
        "Time Limit: 1sec\n",
        "\n",
        "Sample Input 1:\n",
        "1\n",
        "3 4 \n",
        "1  2  3  4 \n",
        "5  6  7  8 \n",
        "9 10 11 12\n",
        "Sample Output 1:\n",
        "1 5 9 10 6 2 3 7 11 12 8 4\n",
        "\n",
        "Sample Input 2:\n",
        "2\n",
        "5 3 \n",
        "1 2 3 \n",
        "4 5 6 \n",
        "7 8 9 \n",
        "10 11 12 \n",
        "13 14 15\n",
        "3 3\n",
        "10 20 30 \n",
        "40 50 60\n",
        "70 80 90\n",
        "Sample Output 2:\n",
        "1 4 7 10 13 14 11 8 5 2 3 6 9 12 15 \n",
        "10 40 70 80 50 20 30 60 90 \n",
        "'''\n",
        "\n",
        "from sys import stdin\n",
        "\n",
        "def wavePrint(mat, nRows, mCols):\n",
        "    flag = 0\n",
        "    for j in range(mCols):\n",
        "        if flag==0:\n",
        "            for i in range(nRows):\n",
        "                print(mat[i][j], end=' ')\n",
        "            flag = 1\n",
        "        else:\n",
        "            for i in range(nRows-1,-1,-1):\n",
        "            \tprint(mat[i][j], end=' ')\n",
        "            flag = 0\n",
        "\n",
        "#Taking Iput Using Fast I/O\n",
        "def take2DInput() :\n",
        "    li = stdin.readline().rstrip().split(\" \")\n",
        "    nRows = int(li[0])\n",
        "    mCols = int(li[1])\n",
        "    if nRows == 0 :\n",
        "        return list(), 0, 0\n",
        "    mat = [list(map(int, input().strip().split(\" \"))) for row in range(nRows)]\n",
        "    return mat, nRows, mCols\n",
        "\n",
        "#main\n",
        "t = int(stdin.readline().rstrip())\n",
        "while t > 0 :\n",
        "    mat, nRows, mCols = take2DInput()\n",
        "    wavePrint(mat, nRows, mCols)\n",
        "    print()\n",
        "    t -= 1"
      ],
      "metadata": {
        "id": "hIIMw03xiNg7"
      },
      "execution_count": null,
      "outputs": []
    },
    {
      "cell_type": "code",
      "source": [
        "'''\n",
        "Spiral Print\n",
        "\n",
        "For a given two-dimensional integer array/list of size (N x M), print it in a spiral form. That is, you need to print in the order followed for every iteration:\n",
        "a. First row(left to right)\n",
        "b. Last column(top to bottom)\n",
        "c. Last row(right to left)\n",
        "d. First column(bottom to top)\n",
        "\n",
        "Mind that every element will be printed only once.\n",
        "\n",
        "Input format :\n",
        "The first line contains an Integer 't' which denotes the number of test cases or queries to be run. Then the test cases follow.\n",
        "\n",
        "First line of each test case or query contains two integer values, 'N' and 'M', separated by a single space. They represent the 'rows' and 'columns' respectively, for the two-dimensional array/list.\n",
        "\n",
        "Second line onwards, the next 'N' lines or rows represent the ith row values.\n",
        "\n",
        "Each of the ith row constitutes 'M' column values separated by a single space.\n",
        "Output format :\n",
        "For each test case, print the elements of the two-dimensional array/list in the spiral form in a single line, separated by a single space.\n",
        "\n",
        "Output for every test case will be printed in a seperate line.\n",
        "\n",
        "Constraints :\n",
        "1 <= t <= 10^2\n",
        "0 <= N <= 10^3\n",
        "0 <= M <= 10^3\n",
        "Time Limit: 1sec\n",
        "\n",
        "Sample Input 1:\n",
        "1\n",
        "4 4 \n",
        "1 2 3 4 \n",
        "5 6 7 8 \n",
        "9 10 11 12 \n",
        "13 14 15 16\n",
        "Sample Output 1:\n",
        "1 2 3 4 8 12 16 15 14 13 9 5 6 7 11 10 \n",
        "\n",
        "Sample Input 2:\n",
        "2\n",
        "3 3 \n",
        "1 2 3 \n",
        "4 5 6 \n",
        "7 8 9\n",
        "3 1\n",
        "10\n",
        "20\n",
        "30\n",
        "Sample Output 2:\n",
        "1 2 3 6 9 8 7 4 5 \n",
        "10 20 30 \n",
        "'''\n",
        "\n",
        "from sys import stdin\n",
        "\n",
        "def spiralPrint(mat, nRows, mCols):\n",
        "    \n",
        "    startRow, startCol, endRow, endCol = 0, 0, nRows-1, mCols-1\n",
        "    \n",
        "    while startRow<=endRow and startCol<=endCol:\n",
        "        \n",
        "        # Print startRow \n",
        "        for j in range(startCol, endCol+1): \n",
        "            print(mat[startRow][j], end=' ')\n",
        "        startRow += 1\n",
        "        if startRow>endRow or startCol>endCol: \n",
        "            break \n",
        "            \n",
        "        # Print endCol \n",
        "        for i in range(startRow, endRow+1): \n",
        "            print(mat[i][endCol], end=' ') \n",
        "        endCol -= 1 \n",
        "        if startRow>endRow or startCol>endCol: \n",
        "            break \n",
        "            \n",
        "        # Print endRow\n",
        "        for j in range(endCol, startCol-1, -1):\n",
        "            print(mat[endRow][j], end=' ')\n",
        "        endRow -= 1 \n",
        "        if startRow>endRow or startCol>endCol:\n",
        "            break \n",
        "            \n",
        "        # Print startCol \n",
        "        for i in range(endRow, startRow-1, -1): \n",
        "            print(mat[i][startCol], end=' ') \n",
        "        startCol += 1 \n",
        "\n",
        "#Taking Input Using Fast I/O\n",
        "def take2DInput() :\n",
        "    li = stdin.readline().rstrip().split(\" \")\n",
        "    nRows = int(li[0])\n",
        "    mCols = int(li[1])\n",
        "    if nRows == 0 :\n",
        "        return list(), 0, 0 \n",
        "    mat = [list(map(int, input().strip().split(\" \"))) for row in range(nRows)]\n",
        "    return mat, nRows, mCols\n",
        "\n",
        "#main\n",
        "t = int(stdin.readline().rstrip())\n",
        "while t > 0 :\n",
        "    mat, nRows, mCols = take2DInput()\n",
        "    spiralPrint(mat, nRows, mCols)\n",
        "    print()\n",
        "    t -= 1"
      ],
      "metadata": {
        "id": "CK5rhV10kGZC"
      },
      "execution_count": null,
      "outputs": []
    },
    {
      "cell_type": "markdown",
      "source": [
        "**CONTENT**"
      ],
      "metadata": {
        "id": "qboV8rz0I3Ca"
      }
    },
    {
      "cell_type": "code",
      "source": [
        "# Jagged Lists : 2 Dimensional List with different size of columns\n",
        "\n",
        "li = [[1,2,3,4,5],[1,2,3,4],[1,2,3],[1,2],[1]]\n",
        "print(li)\n",
        "print(li[0])\n",
        "print(li[1])\n",
        "print(li[0][3])\n",
        "print(li[2][0])"
      ],
      "metadata": {
        "colab": {
          "base_uri": "https://localhost:8080/"
        },
        "id": "7Ua2a7VDI5NC",
        "outputId": "faf35221-6fb2-47c4-c0aa-c74a0063288a"
      },
      "execution_count": 1,
      "outputs": [
        {
          "output_type": "stream",
          "name": "stdout",
          "text": [
            "[[1, 2, 3, 4, 5], [1, 2, 3, 4], [1, 2, 3], [1, 2], [1]]\n",
            "[1, 2, 3, 4, 5]\n",
            "[1, 2, 3, 4]\n",
            "4\n",
            "1\n"
          ]
        }
      ]
    },
    {
      "cell_type": "code",
      "source": [
        "# List Comprehension\n",
        "# list = [ Output ForLoop Condition]\n",
        "\n",
        "li = [1,2,3,4,5,6]\n",
        "print(li)\n",
        "\n",
        "li_square = [ele**2 for ele in li]\n",
        "print(li_square)\n",
        "\n",
        "li_even_square = [ele**2 for ele in li if ele%2==0]\n",
        "print(li_even_square)\n",
        "\n",
        "# Print number which is divisible by both 2 and 3\n",
        "li_2_3 = [ele for ele in li if ele%2==0 if ele%3==0]\n",
        "print(li_2_3)\n",
        "\n",
        "# Array Intersection\n",
        "li_1 = [1,2,3,4,5]\n",
        "li_2 = [2,4,6,7]\n",
        "li_inter = [ele1 for ele1 in li_1 for ele2 in li_2 if ele1==ele2]\n",
        "print(li_inter)\n",
        "\n",
        "# Square if the number is even else do not square\n",
        "li = [1,2,3,4,5]\n",
        "li_sq = [ele**2 if ele%2==0 else ele for ele in li]\n",
        "print(li_sq)\n",
        "\n",
        "# List of characters from string\n",
        "li = 'Python'\n",
        "li_char = [ele for ele in li]\n",
        "print(li_char)\n",
        "\n",
        "# List of characters\n",
        "li = [\"Python\",\"Programming\",\"Language\"]\n",
        "li_2d = [ [s for s in ele] for ele in li ]\n",
        "print(li_2d)"
      ],
      "metadata": {
        "colab": {
          "base_uri": "https://localhost:8080/"
        },
        "id": "NuxlfxyLNX0V",
        "outputId": "9df050d8-47d8-4c5e-8f42-da3393823b13"
      },
      "execution_count": 9,
      "outputs": [
        {
          "output_type": "stream",
          "name": "stdout",
          "text": [
            "[1, 2, 3, 4, 5, 6]\n",
            "[1, 4, 9, 16, 25, 36]\n",
            "[4, 16, 36]\n",
            "[6]\n",
            "[2, 4]\n",
            "[1, 4, 3, 16, 5]\n",
            "['P', 'y', 't', 'h', 'o', 'n']\n",
            "[['P', 'y', 't', 'h', 'o', 'n'], ['P', 'r', 'o', 'g', 'r', 'a', 'm', 'm', 'i', 'n', 'g'], ['L', 'a', 'n', 'g', 'u', 'a', 'g', 'e']]\n"
          ]
        }
      ]
    },
    {
      "cell_type": "code",
      "source": [
        "li = [ele**2 for ele in range(5)]\n",
        "print(li)"
      ],
      "metadata": {
        "colab": {
          "base_uri": "https://localhost:8080/"
        },
        "id": "gLZPBHYCRGp9",
        "outputId": "c448894b-13da-422d-a44d-2e5bc15a97d4"
      },
      "execution_count": 10,
      "outputs": [
        {
          "output_type": "stream",
          "name": "stdout",
          "text": [
            "[0, 1, 4, 9, 16]\n"
          ]
        }
      ]
    },
    {
      "cell_type": "code",
      "source": [
        "li = [ele**2 for ele in range(10) if ele%3 ==0]\n",
        "print(li)"
      ],
      "metadata": {
        "colab": {
          "base_uri": "https://localhost:8080/"
        },
        "id": "4VD4757KRfYz",
        "outputId": "95c5fb7a-d082-476b-df78-706f2e107a27"
      },
      "execution_count": 11,
      "outputs": [
        {
          "output_type": "stream",
          "name": "stdout",
          "text": [
            "[0, 9, 36, 81]\n"
          ]
        }
      ]
    },
    {
      "cell_type": "code",
      "source": [
        "li = [[ i*j for j in range(4)] for i in range(3)]\n",
        "print(li)"
      ],
      "metadata": {
        "colab": {
          "base_uri": "https://localhost:8080/"
        },
        "id": "hS6PeCIyR2R8",
        "outputId": "86a29069-d930-46a4-c6cf-070073d9b97b"
      },
      "execution_count": 12,
      "outputs": [
        {
          "output_type": "stream",
          "name": "stdout",
          "text": [
            "[[0, 0, 0, 0], [0, 1, 2, 3], [0, 2, 4, 6]]\n"
          ]
        }
      ]
    },
    {
      "cell_type": "code",
      "source": [
        "# Taking input of 2D Lists\n",
        "str = input().split()\n",
        "n,m = int(str[0]),int(str[1])\n",
        "li = [[int (j) for j in input().split()]for i in range(n)]\n",
        "print(li)"
      ],
      "metadata": {
        "colab": {
          "base_uri": "https://localhost:8080/"
        },
        "id": "zuQoMkHTTCek",
        "outputId": "07aa9062-75f3-478e-fcf2-f7ee64f93478"
      },
      "execution_count": 13,
      "outputs": [
        {
          "output_type": "stream",
          "name": "stdout",
          "text": [
            "3 4\n",
            "1 2 3 4\n",
            "5 6 7 8\n",
            "9 10 11 12\n",
            "[[1, 2, 3, 4], [5, 6, 7, 8], [9, 10, 11, 12]]\n"
          ]
        }
      ]
    },
    {
      "cell_type": "code",
      "source": [
        "# Converting String to 2D Array\n",
        "str = input().split()\n",
        "n,m = int(str[0]),int(str[1])\n",
        "b = input().split()\n",
        "arr = [ [ int(b[m*i+j]) for j in range(m) ] for i in range(n)]\n",
        "print(arr)"
      ],
      "metadata": {
        "colab": {
          "base_uri": "https://localhost:8080/"
        },
        "id": "9gPiBreTULGc",
        "outputId": "5b6810d4-87a3-42a5-c7c6-5ff4f20edb28"
      },
      "execution_count": 14,
      "outputs": [
        {
          "output_type": "stream",
          "name": "stdout",
          "text": [
            "2 3\n",
            "1 2 3 4 5 6\n",
            "[[1, 2, 3], [4, 5, 6]]\n"
          ]
        }
      ]
    },
    {
      "cell_type": "code",
      "source": [
        "# Printing 2D List\n",
        "li = [[1,2,3,4],[5,6,7,8],[9,10,11,12]]\n",
        "n = 3\n",
        "m = 4\n",
        "\n",
        "for i in range(n):\n",
        "    for j in range(m):\n",
        "        print(li[i][j],end=' ')\n",
        "    print()\n",
        "\n",
        "print()\n",
        "# if m and n is not given\n",
        "for row in li:\n",
        "    for ele in row:\n",
        "        print(ele,end=' ')\n",
        "    print()"
      ],
      "metadata": {
        "colab": {
          "base_uri": "https://localhost:8080/"
        },
        "id": "sNsZJ0RvVX70",
        "outputId": "504d00c3-7577-4d66-848d-06124d990f05"
      },
      "execution_count": 16,
      "outputs": [
        {
          "output_type": "stream",
          "name": "stdout",
          "text": [
            "1 2 3 4 \n",
            "5 6 7 8 \n",
            "9 10 11 12 \n",
            "\n",
            "1 2 3 4 \n",
            "5 6 7 8 \n",
            "9 10 11 12 \n"
          ]
        }
      ]
    },
    {
      "cell_type": "code",
      "source": [
        "# join function\n",
        "temp = 'xy'.join('abcd')\n",
        "print(temp)\n",
        "\n",
        "temp = 'ab'.join(['1','2','3'])\n",
        "print(temp)\n"
      ],
      "metadata": {
        "colab": {
          "base_uri": "https://localhost:8080/"
        },
        "id": "rsl1PwT1WmHz",
        "outputId": "74caecc2-6b78-4f9f-98ee-1390ff11637c"
      },
      "execution_count": 23,
      "outputs": [
        {
          "output_type": "stream",
          "name": "stdout",
          "text": [
            "axybxycxyd\n",
            "1ab2ab3\n"
          ]
        }
      ]
    },
    {
      "cell_type": "code",
      "source": [
        "li = [[1,2,3,4],[5,6,7,8],[9,10,11,12]]\n",
        "for j in range(4):\n",
        "    for ele in li:\n",
        "        print(ele[j],end = ' ')"
      ],
      "metadata": {
        "colab": {
          "base_uri": "https://localhost:8080/"
        },
        "id": "M7gEyhF_agwa",
        "outputId": "9e62279d-b274-4006-fd63-a23c0c92696d"
      },
      "execution_count": 25,
      "outputs": [
        {
          "output_type": "stream",
          "name": "stdout",
          "text": [
            "1 5 9 2 6 10 3 7 11 4 8 12 "
          ]
        }
      ]
    }
  ]
}