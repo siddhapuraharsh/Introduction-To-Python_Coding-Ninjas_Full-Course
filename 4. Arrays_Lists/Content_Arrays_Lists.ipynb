{
  "nbformat": 4,
  "nbformat_minor": 0,
  "metadata": {
    "colab": {
      "name": "Content_Arrays_Lists",
      "provenance": []
    },
    "kernelspec": {
      "name": "python3",
      "display_name": "Python 3"
    },
    "language_info": {
      "name": "python"
    }
  },
  "cells": [
    {
      "cell_type": "code",
      "execution_count": null,
      "metadata": {
        "colab": {
          "base_uri": "https://localhost:8080/"
        },
        "id": "BZMgTqIFJWur",
        "outputId": "474f142d-43c1-4876-9cd8-82c2672b4170"
      },
      "outputs": [
        {
          "output_type": "stream",
          "name": "stdout",
          "text": [
            "[1, 2, 3.5, 'abc']\n"
          ]
        }
      ],
      "source": [
        "ls = []\n",
        "ls = [1, 2, 3.5, 'abc']\n",
        "print(ls)"
      ]
    },
    {
      "cell_type": "code",
      "source": [
        "print(ls[1:])\n",
        "print(ls[:3])\n",
        "print(ls[:])\n",
        "print(ls[1:4])"
      ],
      "metadata": {
        "colab": {
          "base_uri": "https://localhost:8080/"
        },
        "id": "2Wd264RMLfXZ",
        "outputId": "9645da4d-0a7a-41d3-aad5-1e991797d322"
      },
      "execution_count": null,
      "outputs": [
        {
          "output_type": "stream",
          "name": "stdout",
          "text": [
            "[2, 3.5, 'abc']\n",
            "[1, 2, 3.5]\n",
            "[1, 2, 3.5, 'abc']\n",
            "[2, 3.5, 'abc']\n"
          ]
        }
      ]
    },
    {
      "cell_type": "code",
      "source": [
        "ls.append('def')\n",
        "ls.append(32)\n",
        "print(ls)"
      ],
      "metadata": {
        "colab": {
          "base_uri": "https://localhost:8080/"
        },
        "id": "OrkYBymZLy5U",
        "outputId": "e9401350-c262-429a-98d2-3620edb50e77"
      },
      "execution_count": null,
      "outputs": [
        {
          "output_type": "stream",
          "name": "stdout",
          "text": [
            "[1, 2, 3.5, 'abc', 'def', 32]\n"
          ]
        }
      ]
    },
    {
      "cell_type": "code",
      "source": [
        "ls.insert(4, 'xyz')\n",
        "ls.insert(20, 'pqr')\n",
        "print(ls)"
      ],
      "metadata": {
        "colab": {
          "base_uri": "https://localhost:8080/"
        },
        "id": "wE_g0kBRL-5Y",
        "outputId": "0c3cfd35-e4ab-4714-eee6-09b9c55b8542"
      },
      "execution_count": null,
      "outputs": [
        {
          "output_type": "stream",
          "name": "stdout",
          "text": [
            "[1, 2, 3.5, 'abc', 'xyz', 'def', 32, 'pqr']\n"
          ]
        }
      ]
    },
    {
      "cell_type": "code",
      "source": [
        "ls.extend([4, 5, 6])\n",
        "ls.extend(['stu','hij'])\n",
        "print(ls)"
      ],
      "metadata": {
        "colab": {
          "base_uri": "https://localhost:8080/"
        },
        "id": "qqvlxob_MJtm",
        "outputId": "316ffb6d-93d4-48d8-9869-6530ab978721"
      },
      "execution_count": null,
      "outputs": [
        {
          "output_type": "stream",
          "name": "stdout",
          "text": [
            "[1, 2, 3.5, 'abc', 'xyz', 'def', 32, 'pqr', 4, 5, 6, 'stu', 'hij']\n"
          ]
        }
      ]
    },
    {
      "cell_type": "code",
      "source": [
        "# Removes first occurence of element\n",
        "ls.remove(1)\n",
        "print(ls)"
      ],
      "metadata": {
        "colab": {
          "base_uri": "https://localhost:8080/"
        },
        "id": "rg6NuhwyeoxR",
        "outputId": "bbe5384b-92b4-43b1-cb9b-1511965dac1e"
      },
      "execution_count": null,
      "outputs": [
        {
          "output_type": "stream",
          "name": "stdout",
          "text": [
            "[2, 3.5, 'abc', 'xyz', 'def', 32, 'pqr', 4, 5, 6, 'stu', 'hij']\n"
          ]
        }
      ]
    },
    {
      "cell_type": "code",
      "source": [
        "ls.pop()\n",
        "print(ls)\n",
        "ls.pop(3) # Removes element at index 3\n",
        "print(ls)"
      ],
      "metadata": {
        "colab": {
          "base_uri": "https://localhost:8080/"
        },
        "id": "xtXSbgLjfI4h",
        "outputId": "62bc780e-8859-4634-e076-3185a6385a9e"
      },
      "execution_count": null,
      "outputs": [
        {
          "output_type": "stream",
          "name": "stdout",
          "text": [
            "[2, 3.5, 'abc', 'xyz', 'def', 32, 'pqr', 4, 5, 6, 'stu']\n",
            "[2, 3.5, 'abc', 'def', 32, 'pqr', 4, 5, 6, 'stu']\n"
          ]
        }
      ]
    },
    {
      "cell_type": "code",
      "source": [
        "li =['abcd','def']\n",
        "li.insert(4,5)\n",
        "print(li)"
      ],
      "metadata": {
        "colab": {
          "base_uri": "https://localhost:8080/"
        },
        "id": "ZXaWin-lfqK_",
        "outputId": "b61c2699-c44f-4e83-a109-1d781ca06ead"
      },
      "execution_count": null,
      "outputs": [
        {
          "output_type": "stream",
          "name": "stdout",
          "text": [
            "['abcd', 'def', 5]\n"
          ]
        }
      ]
    },
    {
      "cell_type": "code",
      "source": [
        "li = ['abcd',5,'def',5]\n",
        "li.remove(5)\n",
        "print(li)"
      ],
      "metadata": {
        "colab": {
          "base_uri": "https://localhost:8080/"
        },
        "id": "kLVbJrDFgqMh",
        "outputId": "109ea11c-36d2-4c01-bd85-70673bcb8b7b"
      },
      "execution_count": null,
      "outputs": [
        {
          "output_type": "stream",
          "name": "stdout",
          "text": [
            "['abcd', 'def', 5]\n"
          ]
        }
      ]
    },
    {
      "cell_type": "code",
      "source": [
        "li = [5,2,6,8]\n",
        "li.pop(2)\n",
        "print(li)"
      ],
      "metadata": {
        "colab": {
          "base_uri": "https://localhost:8080/"
        },
        "id": "UVxf7aF1g1Ee",
        "outputId": "8bfe39f2-58d2-420b-b8c0-f6e7bb243c67"
      },
      "execution_count": null,
      "outputs": [
        {
          "output_type": "stream",
          "name": "stdout",
          "text": [
            "[5, 2, 8]\n"
          ]
        }
      ]
    },
    {
      "cell_type": "code",
      "source": [
        "for i in range(len(ls)):\n",
        "  print(ls[i])"
      ],
      "metadata": {
        "colab": {
          "base_uri": "https://localhost:8080/"
        },
        "id": "GyPDhuBHk44n",
        "outputId": "86407a37-c026-41d9-96c5-a869d1e837b1"
      },
      "execution_count": null,
      "outputs": [
        {
          "output_type": "stream",
          "name": "stdout",
          "text": [
            "2\n",
            "3.5\n",
            "abc\n",
            "def\n",
            "32\n",
            "pqr\n",
            "4\n",
            "5\n",
            "6\n",
            "stu\n"
          ]
        }
      ]
    },
    {
      "cell_type": "code",
      "source": [
        "for ele in ls:\n",
        "  print(ele)"
      ],
      "metadata": {
        "colab": {
          "base_uri": "https://localhost:8080/"
        },
        "id": "kjpJBxF4lBED",
        "outputId": "f72af302-e102-48b8-8e8d-1f2e2f76af82"
      },
      "execution_count": null,
      "outputs": [
        {
          "output_type": "stream",
          "name": "stdout",
          "text": [
            "2\n",
            "3.5\n",
            "abc\n",
            "def\n",
            "32\n",
            "pqr\n",
            "4\n",
            "5\n",
            "6\n",
            "stu\n"
          ]
        }
      ]
    },
    {
      "cell_type": "code",
      "source": [
        "for ele in ls[3:]:\n",
        "  print(ele)"
      ],
      "metadata": {
        "colab": {
          "base_uri": "https://localhost:8080/"
        },
        "id": "l3dWXsc3lMMd",
        "outputId": "65ea39d8-7a39-4b9a-d7c9-fcce6e552d4a"
      },
      "execution_count": null,
      "outputs": [
        {
          "output_type": "stream",
          "name": "stdout",
          "text": [
            "def\n",
            "32\n",
            "pqr\n",
            "4\n",
            "5\n",
            "6\n",
            "stu\n"
          ]
        }
      ]
    },
    {
      "cell_type": "code",
      "source": [
        "li = [1,2,3,4,5]\n",
        "for i in li[1:4]:\n",
        "    print(i,end= ' ')"
      ],
      "metadata": {
        "colab": {
          "base_uri": "https://localhost:8080/"
        },
        "id": "bbGpNcoalsJN",
        "outputId": "6ad91b0c-d288-4187-de4f-755a6b2adab1"
      },
      "execution_count": null,
      "outputs": [
        {
          "output_type": "stream",
          "name": "stdout",
          "text": [
            "2 3 4 "
          ]
        }
      ]
    },
    {
      "cell_type": "markdown",
      "source": [
        "**Indexing**"
      ],
      "metadata": {
        "id": "2_6Krpy0pamL"
      }
    },
    {
      "cell_type": "code",
      "source": [
        "ls = [1,2,3,4,5]\n",
        "print(ls[0])\n",
        "print(ls[-1])\n",
        "print(ls[-2])"
      ],
      "metadata": {
        "colab": {
          "base_uri": "https://localhost:8080/"
        },
        "id": "_DrYko6TpeKo",
        "outputId": "afd29104-b568-44ae-b8d7-9a3d0b98528f"
      },
      "execution_count": null,
      "outputs": [
        {
          "output_type": "stream",
          "name": "stdout",
          "text": [
            "1\n",
            "5\n",
            "4\n"
          ]
        }
      ]
    },
    {
      "cell_type": "markdown",
      "source": [
        "**Sequencing in List**"
      ],
      "metadata": {
        "id": "4pCIBM1bqjt1"
      }
    },
    {
      "cell_type": "code",
      "source": [
        "li = [1,2,3,4,5]\n",
        "print(li[1:4:1])    # list[start: end-1: step]\n",
        "print(li[1:5:2])\n",
        "print(li[1:])       # list[start : len(list) by default : step by default 1]\n",
        "print(li[1::2])       # list[start : len(list) by default : step]\n",
        "print(li[::])       # list[start 0 by default : len(list) by default : step by default 1]"
      ],
      "metadata": {
        "colab": {
          "base_uri": "https://localhost:8080/"
        },
        "id": "rlRluIVWqnu1",
        "outputId": "7afb9105-604c-413c-87a8-83dac76c9906"
      },
      "execution_count": null,
      "outputs": [
        {
          "output_type": "stream",
          "name": "stdout",
          "text": [
            "[2, 3, 4]\n",
            "[2, 4]\n",
            "[2, 3, 4, 5]\n",
            "[2, 4]\n",
            "[1, 2, 3, 4, 5]\n"
          ]
        }
      ]
    },
    {
      "cell_type": "markdown",
      "source": [
        "**Taking Inputs** "
      ],
      "metadata": {
        "id": "8bC9LwXitM6y"
      }
    },
    {
      "cell_type": "code",
      "source": [
        "# Line Separated Inputs\n",
        "\n",
        "n = int(input())\n",
        "li = []\n",
        "for i in range(n):\n",
        "  temp = int(input())\n",
        "  li.append(temp)\n",
        "\n",
        "print(li)"
      ],
      "metadata": {
        "colab": {
          "base_uri": "https://localhost:8080/"
        },
        "id": "S12iMdK4tSRl",
        "outputId": "f701922d-e0d3-40a8-a637-616281e1b5e9"
      },
      "execution_count": null,
      "outputs": [
        {
          "output_type": "stream",
          "name": "stdout",
          "text": [
            "5\n",
            "1\n",
            "2\n",
            "3\n",
            "4\n",
            "5\n",
            "[1, 2, 3, 4, 5]\n"
          ]
        }
      ]
    },
    {
      "cell_type": "code",
      "source": [
        "n = int(input())\n",
        "li = []\n",
        "for i in range(n):\n",
        "    li.append(input())\n",
        "print(li)"
      ],
      "metadata": {
        "colab": {
          "base_uri": "https://localhost:8080/"
        },
        "id": "5tf7hoEbt307",
        "outputId": "6ee06d1b-1387-492d-8559-c17d6f972658"
      },
      "execution_count": null,
      "outputs": [
        {
          "output_type": "stream",
          "name": "stdout",
          "text": [
            "5\n",
            "1\n",
            "2\n",
            "3\n",
            "4\n",
            "5\n",
            "['1', '2', '3', '4', '5']\n"
          ]
        }
      ]
    },
    {
      "cell_type": "code",
      "source": [
        "# Space Separated Input\n",
        "\n",
        "li = []\n",
        "ls = []\n",
        "\n",
        "li = [ int(x) for x in input().split()]\n",
        "ls = list(int(x) for x in input().split())\n",
        "\n",
        "print(li)\n",
        "print(ls)"
      ],
      "metadata": {
        "colab": {
          "base_uri": "https://localhost:8080/"
        },
        "id": "r1hNygxkwi0q",
        "outputId": "df172d8b-5b1b-420d-cec8-6effd8e78520"
      },
      "execution_count": null,
      "outputs": [
        {
          "output_type": "stream",
          "name": "stdout",
          "text": [
            "1 2 3 4 5\n",
            "6 7 8 9 10\n",
            "[1, 2, 3, 4, 5]\n",
            "[6, 7, 8, 9, 10]\n"
          ]
        }
      ]
    },
    {
      "cell_type": "code",
      "source": [
        "li = [x for x in input().split()]\n",
        "print(li)"
      ],
      "metadata": {
        "colab": {
          "base_uri": "https://localhost:8080/"
        },
        "id": "AAxsAamoxXU2",
        "outputId": "d7debb19-47b1-46f3-91af-f4be470808c3"
      },
      "execution_count": null,
      "outputs": [
        {
          "output_type": "stream",
          "name": "stdout",
          "text": [
            "1 3 6 8 9\n",
            "['1', '3', '6', '8', '9']\n"
          ]
        }
      ]
    },
    {
      "cell_type": "markdown",
      "source": [
        "**Linear Search**"
      ],
      "metadata": {
        "id": "LjjuK72wIjUX"
      }
    },
    {
      "cell_type": "code",
      "source": [
        "def linear_search_index(ls,ele):\n",
        "  for i in range(len(ls)):\n",
        "    if(ls[i]==ele):\n",
        "      return i\n",
        "  return -1\n",
        "\n",
        "ls = list(int(x) for x in input().strip().split())\n",
        "ele  =int(input())\n",
        "index = linear_search_index(ls,ele)\n",
        "print(index)"
      ],
      "metadata": {
        "colab": {
          "base_uri": "https://localhost:8080/"
        },
        "id": "HyW6qGFDIlfh",
        "outputId": "d1201501-e2ee-4f39-8eab-c0d3e672c326"
      },
      "execution_count": null,
      "outputs": [
        {
          "output_type": "stream",
          "name": "stdout",
          "text": [
            "2 5 6 8 7\n",
            "6\n",
            "2\n"
          ]
        }
      ]
    },
    {
      "cell_type": "markdown",
      "source": [
        "**Mutable**"
      ],
      "metadata": {
        "id": "vt49835vLFGf"
      }
    },
    {
      "cell_type": "code",
      "source": [
        "l1 = [1,2,3,4,5]\n",
        "l2 = l1.copy()\n",
        "l2[0] = 6\n",
        "print(l1)\n",
        "print(l2)"
      ],
      "metadata": {
        "colab": {
          "base_uri": "https://localhost:8080/"
        },
        "id": "l0OI1QTxJ4KK",
        "outputId": "f9e011a9-d506-4a92-a862-1e209bdd7c6f"
      },
      "execution_count": null,
      "outputs": [
        {
          "output_type": "stream",
          "name": "stdout",
          "text": [
            "[1, 2, 3, 4, 5]\n",
            "[6, 2, 3, 4, 5]\n"
          ]
        }
      ]
    },
    {
      "cell_type": "code",
      "source": [
        "l1 = [1,2,3,4,5]\n",
        "l2 = l1\n",
        "l2[0] = 6\n",
        "print(l1)\n",
        "print(l2)"
      ],
      "metadata": {
        "colab": {
          "base_uri": "https://localhost:8080/"
        },
        "id": "_A3Y81aOKi-o",
        "outputId": "4e0ffa3c-e489-413d-9844-bd5bc9f49d0d"
      },
      "execution_count": null,
      "outputs": [
        {
          "output_type": "stream",
          "name": "stdout",
          "text": [
            "[6, 2, 3, 4, 5]\n",
            "[6, 2, 3, 4, 5]\n"
          ]
        }
      ]
    },
    {
      "cell_type": "code",
      "source": [
        "def change(li):\n",
        "    li[1] = li[1] + 2\n",
        "li = [1,2,3,4,5]\n",
        "change(li)\n",
        "print(li)"
      ],
      "metadata": {
        "colab": {
          "base_uri": "https://localhost:8080/"
        },
        "id": "uta3EgBEPAlj",
        "outputId": "ddd50cc2-a678-4dce-f5a1-d7f03e31e70a"
      },
      "execution_count": null,
      "outputs": [
        {
          "output_type": "stream",
          "name": "stdout",
          "text": [
            "[1, 4, 3, 4, 5]\n"
          ]
        }
      ]
    },
    {
      "cell_type": "code",
      "source": [
        "def change(li):\n",
        "    li[1] = li[1] + 2\n",
        "    li = [3,3,3,4,5]\n",
        "li = [1,2,3,4,5]\n",
        "change(li)\n",
        "print(li)"
      ],
      "metadata": {
        "colab": {
          "base_uri": "https://localhost:8080/"
        },
        "id": "NX7oquyNP77W",
        "outputId": "2d01e809-6554-467a-95fa-dd4cef80e76c"
      },
      "execution_count": null,
      "outputs": [
        {
          "output_type": "stream",
          "name": "stdout",
          "text": [
            "[1, 4, 3, 4, 5]\n"
          ]
        }
      ]
    },
    {
      "cell_type": "markdown",
      "source": [
        "**Reverse List**"
      ],
      "metadata": {
        "id": "k9Rn1bnrQx2p"
      }
    },
    {
      "cell_type": "code",
      "source": [
        "def reverseList(ls):\n",
        "  for i in range(len(ls)//2):\n",
        "    ls[i],ls[-i-1] = ls[-i-1],ls[i]\n",
        "\n",
        "ls = list(int(x) for x in input().strip().split())\n",
        "reverseList(ls)\n",
        "print(ls)"
      ],
      "metadata": {
        "colab": {
          "base_uri": "https://localhost:8080/"
        },
        "id": "rcEKZMUfQ0Hu",
        "outputId": "ff2c8ed3-9ac8-462d-8186-ad7026a13c24"
      },
      "execution_count": null,
      "outputs": [
        {
          "output_type": "stream",
          "name": "stdout",
          "text": [
            "1 2 3 4 5 6 7 8 9\n",
            "[9, 8, 7, 6, 5, 4, 3, 2, 1]\n"
          ]
        }
      ]
    },
    {
      "cell_type": "code",
      "source": [
        "def reverseList(li):\n",
        "  li = li[::-1]\n",
        "  return li\n",
        "\n",
        "li = list(int(x) for x in input().strip().split())\n",
        "li = reverseList(li)\n",
        "print(li)"
      ],
      "metadata": {
        "colab": {
          "base_uri": "https://localhost:8080/"
        },
        "id": "OJmEUlocSanS",
        "outputId": "4195fe35-d284-48a4-ad34-d1ee54e69a44"
      },
      "execution_count": null,
      "outputs": [
        {
          "output_type": "stream",
          "name": "stdout",
          "text": [
            "1 2 3 4 5 6 7 8 9\n",
            "[9, 8, 7, 6, 5, 4, 3, 2, 1]\n"
          ]
        }
      ]
    }
  ]
}